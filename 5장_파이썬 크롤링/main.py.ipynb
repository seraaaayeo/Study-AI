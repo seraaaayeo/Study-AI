{
 "cells": [
  {
   "cell_type": "code",
   "execution_count": 1,
   "metadata": {},
   "outputs": [
    {
     "ename": "ModuleNotFoundError",
     "evalue": "No module named 'wc'",
     "output_type": "error",
     "traceback": [
      "\u001b[1;31m---------------------------------------------------------------------------\u001b[0m",
      "\u001b[1;31mModuleNotFoundError\u001b[0m                       Traceback (most recent call last)",
      "\u001b[1;32m<ipython-input-1-bf1b79d0d5ae>\u001b[0m in \u001b[0;36m<module>\u001b[1;34m\u001b[0m\n\u001b[0;32m      1\u001b[0m \u001b[1;32mimport\u001b[0m \u001b[0mrequests\u001b[0m\u001b[1;33m\u001b[0m\u001b[1;33m\u001b[0m\u001b[0m\n\u001b[0;32m      2\u001b[0m \u001b[1;32mfrom\u001b[0m \u001b[0mbs4\u001b[0m \u001b[1;32mimport\u001b[0m \u001b[0mBeautifulSoup\u001b[0m\u001b[1;33m\u001b[0m\u001b[1;33m\u001b[0m\u001b[0m\n\u001b[1;32m----> 3\u001b[1;33m \u001b[1;32mfrom\u001b[0m \u001b[0mwc\u001b[0m \u001b[1;32mimport\u001b[0m \u001b[0mcreate_word_cloud\u001b[0m\u001b[1;33m\u001b[0m\u001b[1;33m\u001b[0m\u001b[0m\n\u001b[0m\u001b[0;32m      4\u001b[0m \u001b[1;33m\u001b[0m\u001b[0m\n\u001b[0;32m      5\u001b[0m \u001b[1;32mdef\u001b[0m \u001b[0mcrawling\u001b[0m\u001b[1;33m(\u001b[0m\u001b[0msoup\u001b[0m\u001b[1;33m)\u001b[0m \u001b[1;33m:\u001b[0m\u001b[1;33m\u001b[0m\u001b[1;33m\u001b[0m\u001b[0m\n",
      "\u001b[1;31mModuleNotFoundError\u001b[0m: No module named 'wc'"
     ]
    }
   ],
   "source": [
    "import requests\n",
    "from bs4 import BeautifulSoup\n",
    "from wc import create_word_cloud\n",
    "\n",
    "def crawling(soup) :\n",
    "    result = \"\"\n",
    "    for children in soup.find(\"div\", class_=\"_article_body_contents\").children :\n",
    "        if children.name == None :\n",
    "            result += children\n",
    "    \n",
    "    start = result.find(\"// TV플레이어\")\n",
    "    result = result[start+len(\"// TV플레이어\")+1:]\n",
    "    \n",
    "    end = result.find(\"// 본문 내용\")\n",
    "    result = result[:end]\n",
    "    \n",
    "    return result.replace(\"\\n\", \"\").replace(\"\\t\", \"\")\n",
    "    \n",
    "\n",
    "def get_href(soup) :\n",
    "    result = []\n",
    "    \n",
    "    cluster_body = soup.find(\"div\", class_ = \"cluster_body\")\n",
    "    \n",
    "    for cluster_text in cluster_body.find_all(\"div\", class_ = \"cluster_text\") :\n",
    "        result.append(cluster_text.find(\"a\")[\"href\"])\n",
    "    \n",
    "    return result\n",
    "\n",
    "\n",
    "def get_request(section) :\n",
    "    url = \"https://news.naver.com/main/main.nhn\"\n",
    "    section_dict = { \"정치\" : 100,\n",
    "                     \"경제\" : 101,\n",
    "                     \"사회\" : 102,\n",
    "                     \"생활\" : 103,\n",
    "                     \"세계\" : 104,\n",
    "                     \"과학\" : 105 }\n",
    "    return requests.get(url, params={\"sid1\":section_dict[section]})\n",
    "\n",
    "\n",
    "def main() :\n",
    "    list_href = []\n",
    "    result = []\n",
    "    \n",
    "    # 섹션을 입력하세요.\n",
    "    section = input('\"정치\", \"경제\", \"사회\", \"생활\", \"세계\", \"과학\" 중 하나를 입력하세요.\\n  > ')\n",
    "    \n",
    "    req = get_request(section)\n",
    "    soup = BeautifulSoup(req.text, \"html.parser\")\n",
    "    \n",
    "    list_href = get_href(soup)\n",
    "    \n",
    "    for href in list_href :\n",
    "        href_req = requests.get(href)\n",
    "        href_soup = BeautifulSoup(href_req.text, \"html.parser\")\n",
    "        result.append(crawling(href_soup))\n",
    "    \n",
    "    text = \" \".join(result)\n",
    "    create_word_cloud(text)\n",
    "    \n",
    "\n",
    "\n",
    "if __name__ == \"__main__\" :\n",
    "    main()"
   ]
  }
 ],
 "metadata": {
  "kernelspec": {
   "display_name": "Python 3",
   "language": "python",
   "name": "python3"
  },
  "language_info": {
   "codemirror_mode": {
    "name": "ipython",
    "version": 3
   },
   "file_extension": ".py",
   "mimetype": "text/x-python",
   "name": "python",
   "nbconvert_exporter": "python",
   "pygments_lexer": "ipython3",
   "version": "3.7.6"
  }
 },
 "nbformat": 4,
 "nbformat_minor": 4
}
