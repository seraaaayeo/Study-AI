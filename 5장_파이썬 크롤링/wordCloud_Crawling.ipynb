{
 "cells": [
  {
   "cell_type": "code",
   "execution_count": 25,
   "metadata": {},
   "outputs": [],
   "source": [
    "# 크롤링 패키지 import\n",
    "import requests\n",
    "from bs4 import BeautifulSoup"
   ]
  },
  {
   "cell_type": "code",
   "execution_count": 26,
   "metadata": {},
   "outputs": [],
   "source": [
    "# 워드클라우드 패키지 import\n",
    "from collections import Counter\n",
    "from string import punctuation\n",
    "from wordcloud import WordCloud\n",
    "from eunjeon import Mecab\n",
    "import base64\n",
    "mecab = Mecab()"
   ]
  },
  {
   "cell_type": "code",
   "execution_count": 27,
   "metadata": {},
   "outputs": [],
   "source": [
    "def count_word_frequency(data):\n",
    "    _data = data.lower()\n",
    "    \n",
    "    for i in punctuation:\n",
    "        _data = _data.replace(i, \"\")\n",
    "    \n",
    "    noun = mecab.nouns(_data)\n",
    "    counter = Counter(noun)\n",
    "    \n",
    "    return counter\n",
    "\n",
    "def create_word_cloud(data):\n",
    "    counter = count_word_frequency(data)\n",
    "    \n",
    "    cloud = WordCloud(font_path=\"‪‪C:\\Windows\\Fonts\\malgun.ttf\", background_color=\"white\")\n",
    "    cloud.fit_words(counter)\n",
    "    cloud.to_file('test_wc2.png')"
   ]
  },
  {
   "cell_type": "code",
   "execution_count": 28,
   "metadata": {},
   "outputs": [],
   "source": [
    "def crawling(soup):\n",
    "    result = \"\"\n",
    "    for children in soup.find(\"div\", class_=\"_article_body_contents\").children:\n",
    "        if children.name == None:\n",
    "            result += children\n",
    "    start = result.find(\"// TV플레이어\")\n",
    "    result = result[start + len(\"// TV플레이어\")+1: ]\n",
    "    end = result.find(\"// 본문 내용\")\n",
    "    result = result[:end]\n",
    "    \n",
    "    return result.replace(\"\\n\", \"\").replace(\"\\t\", \"\")"
   ]
  },
  {
   "cell_type": "code",
   "execution_count": 29,
   "metadata": {},
   "outputs": [],
   "source": [
    "def get_href(soup):\n",
    "    res = []\n",
    "    cluster_body = soup.find(\"div\", class_=\"cluster_body\")\n",
    "    \n",
    "    for cluster_text in cluster_body.find_all(\"div\", class_=\"cluster_text\"):\n",
    "        res.append(cluster_text.find(\"a\")[\"href\"])\n",
    "        \n",
    "    return res"
   ]
  },
  {
   "cell_type": "code",
   "execution_count": 30,
   "metadata": {},
   "outputs": [],
   "source": [
    "def get_request(section):\n",
    "    url = \"https://news.naver.com/main/main.nhn\"\n",
    "    sec_dict = {\n",
    "        \"정치\": 100,\n",
    "        \"경제\": 101,\n",
    "        \"사회\": 102,\n",
    "        \"생활\": 103,\n",
    "        \"세계\": 104,\n",
    "        \"과학\": 105\n",
    "    }\n",
    "    return requests.get(url, params={\"sid1\":sec_dict[section]})"
   ]
  },
  {
   "cell_type": "code",
   "execution_count": 31,
   "metadata": {},
   "outputs": [],
   "source": [
    "def main():\n",
    "    list_href = []\n",
    "    res = []\n",
    "    \n",
    "    section = input('\"정치\", \"경제\", \"사회\", \"생활\", \"세계\", \"과학\" 중 하나를 입력하세요. \\n')\n",
    "    \n",
    "    req = get_request(section)\n",
    "    soup = BeautifulSoup(req.text, \"html.parser\")\n",
    "    \n",
    "    list_href = get_href(soup)\n",
    "    \n",
    "    for href in list_href:\n",
    "        href_req = requests.get(href)\n",
    "        href_soup = BeautifulSoup(href_req.text, \"html.parser\")\n",
    "        res.append(crawling(href_soup))\n",
    "    \n",
    "    text = \" \".join(res)\n",
    "    create_word_cloud(text)"
   ]
  },
  {
   "cell_type": "code",
   "execution_count": 32,
   "metadata": {},
   "outputs": [
    {
     "name": "stdout",
     "output_type": "stream",
     "text": [
      "\"정치\", \"경제\", \"사회\", \"생활\", \"세계\", \"과학\" 중 하나를 입력하세요. \n",
      "정치\n"
     ]
    }
   ],
   "source": [
    "if __name__ == \"__main__\":\n",
    "    main()"
   ]
  }
 ],
 "metadata": {
  "kernelspec": {
   "display_name": "Python 3",
   "language": "python",
   "name": "python3"
  },
  "language_info": {
   "codemirror_mode": {
    "name": "ipython",
    "version": 3
   },
   "file_extension": ".py",
   "mimetype": "text/x-python",
   "name": "python",
   "nbconvert_exporter": "python",
   "pygments_lexer": "ipython3",
   "version": "3.7.7"
  }
 },
 "nbformat": 4,
 "nbformat_minor": 4
}
