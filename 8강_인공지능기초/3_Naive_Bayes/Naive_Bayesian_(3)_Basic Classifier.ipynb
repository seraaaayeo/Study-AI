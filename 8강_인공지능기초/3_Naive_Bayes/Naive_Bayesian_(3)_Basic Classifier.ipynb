{
 "cells": [
  {
   "cell_type": "code",
   "execution_count": 1,
   "metadata": {},
   "outputs": [
    {
     "data": {
      "text/plain": [
       "'\\n@function\\n사탕 기계 - 나이브 베이즈 분류기\\n\\n@description\\n두 개의 사탕 기계 M1, M2가 있다. 각 기계의 빨간사탕, 초록사탕, 파란사탕 비율은 주어진 것과 같다.\\nM1 기계에서 사탕을 뽑을 확률은 0.7, M2 기계에서 사탕을 뽑을 확률은 0.3이다.\\n10개의 사탕을 뽑았을 때, 이 사탕들이 몇 번째 기계에서 나왔는지 확률로 표현한다.\\n\\n@param\\ntest: 10개의 사탕을 뽑았을 때, 뽑힌 사탕의 색의 수\\npost: 나이브 베이즈 확률 계산한 값.\\nnorm: 정규화(normalization)\\nreturn값: [P(M1|test), P(M2|test)]\\n\\n@계산식\\nREADME 참고\\n'"
      ]
     },
     "execution_count": 1,
     "metadata": {},
     "output_type": "execute_result"
    }
   ],
   "source": [
    "'''\n",
    "@function\n",
    "사탕 기계 - 나이브 베이즈 분류기\n",
    "\n",
    "@description\n",
    "두 개의 사탕 기계 M1, M2가 있다. 각 기계의 빨간사탕, 초록사탕, 파란사탕 비율은 주어진 것과 같다.\n",
    "M1 기계에서 사탕을 뽑을 확률은 0.7, M2 기계에서 사탕을 뽑을 확률은 0.3이다.\n",
    "10개의 사탕을 뽑았을 때, 이 사탕들이 몇 번째 기계에서 나왔는지 확률로 표현한다.\n",
    "\n",
    "@param\n",
    "test: 10개의 사탕을 뽑았을 때, 뽑힌 사탕의 색의 수\n",
    "post: 나이브 베이즈 확률 계산한 값.\n",
    "norm: 정규화(normalization)\n",
    "return값: [P(M1|test), P(M2|test)]\n",
    "\n",
    "@계산식\n",
    "README 참고\n",
    "'''"
   ]
  },
  {
   "cell_type": "code",
   "execution_count": 2,
   "metadata": {},
   "outputs": [
    {
     "name": "stdout",
     "output_type": "stream",
     "text": [
      "[0.24254275200230901, 0.757457247997691]\n"
     ]
    }
   ],
   "source": [
    "import re\n",
    "import math\n",
    "import numpy as np\n",
    "\n",
    "def main():\n",
    "    M1 = {'r': 0.7, 'g': 0.2, 'b': 0.1} # M1 기계의 사탕 비율\n",
    "    M2 = {'r': 0.3, 'g': 0.4, 'b': 0.3} # M2 기계의 사탕 비율\n",
    "    \n",
    "    test = {'r': 4, 'g': 3, 'b': 3}\n",
    "\n",
    "    print(naive_bayes(M1, M2, test, 0.7, 0.3))\n",
    "\n",
    "def naive_bayes(M1, M2, test, M1_prior, M2_prior):\n",
    "    M1_likelihood = M1['r']**test['r'] * M1['g']**test['g'] * M1['b']**test['b']\n",
    "    M2_likelihood = M2['r']**test['r'] * M2['g']**test['g'] * M2['b']**test['b']\n",
    "    \n",
    "    M1_post = M1_likelihood * M1_prior\n",
    "    M2_post = M2_likelihood * M2_prior\n",
    "    \n",
    "    M1_norm = M1_post / (M1_post + M2_post)\n",
    "    M2_norm = M2_post / (M1_post + M2_post)\n",
    "    \n",
    "    return [M1_norm, M2_norm]\n",
    "\n",
    "if __name__ == \"__main__\":\n",
    "    main()\n"
   ]
  }
 ],
 "metadata": {
  "kernelspec": {
   "display_name": "Python 3",
   "language": "python",
   "name": "python3"
  },
  "language_info": {
   "codemirror_mode": {
    "name": "ipython",
    "version": 3
   },
   "file_extension": ".py",
   "mimetype": "text/x-python",
   "name": "python",
   "nbconvert_exporter": "python",
   "pygments_lexer": "ipython3",
   "version": "3.7.6"
  }
 },
 "nbformat": 4,
 "nbformat_minor": 4
}
