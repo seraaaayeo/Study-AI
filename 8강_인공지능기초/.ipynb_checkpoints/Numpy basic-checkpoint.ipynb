{
 "cells": [
  {
   "cell_type": "code",
   "execution_count": 2,
   "metadata": {},
   "outputs": [],
   "source": [
    "import numpy as np"
   ]
  },
  {
   "cell_type": "code",
   "execution_count": 4,
   "metadata": {},
   "outputs": [],
   "source": [
    "def get_matrix():\n",
    "    mat = []\n",
    "    [n, m] = [int(x) for x in input().strip().split(\" \")]\n",
    "    for i in range(n):\n",
    "        row = [int(x) for x in input().strip().split(\" \")]\n",
    "        mat.append(row)\n",
    "    return np.array(mat)"
   ]
  },
  {
   "cell_type": "code",
   "execution_count": 6,
   "metadata": {},
   "outputs": [],
   "source": [
    "def matrix_tutorial(A):\n",
    "    B = A.transpose()\n",
    "    try:\n",
    "        C = np.linalg.inv(B)        \n",
    "    except:\n",
    "        return \"not invertible\"\n",
    "    \n",
    "    return np.sum(C>0)"
   ]
  },
  {
   "cell_type": "code",
   "execution_count": 8,
   "metadata": {},
   "outputs": [],
   "source": [
    "def main():\n",
    "    A = get_matrix()\n",
    "    print(matrix_tutorial(A))"
   ]
  },
  {
   "cell_type": "code",
   "execution_count": 9,
   "metadata": {},
   "outputs": [
    {
     "name": "stdout",
     "output_type": "stream",
     "text": [
      "3 5\n",
      "1 2 6 3 8\n",
      "11 0 -1 3 1\n",
      "9 0 7 -3 4\n",
      "not invertible\n"
     ]
    }
   ],
   "source": [
    "if __name__ == \"__main__\":\n",
    "    main()"
   ]
  }
 ],
 "metadata": {
  "kernelspec": {
   "display_name": "Python 3",
   "language": "python",
   "name": "python3"
  },
  "language_info": {
   "codemirror_mode": {
    "name": "ipython",
    "version": 3
   },
   "file_extension": ".py",
   "mimetype": "text/x-python",
   "name": "python",
   "nbconvert_exporter": "python",
   "pygments_lexer": "ipython3",
   "version": "3.7.6"
  }
 },
 "nbformat": 4,
 "nbformat_minor": 4
}
