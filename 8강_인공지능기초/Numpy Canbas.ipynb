{
 "cells": [
  {
   "cell_type": "code",
   "execution_count": 1,
   "metadata": {},
   "outputs": [
    {
     "ename": "ModuleNotFoundError",
     "evalue": "No module named 'elice_utils'",
     "output_type": "error",
     "traceback": [
      "\u001b[1;31m---------------------------------------------------------------------------\u001b[0m",
      "\u001b[1;31mModuleNotFoundError\u001b[0m                       Traceback (most recent call last)",
      "\u001b[1;32m<ipython-input-1-4972f08ab366>\u001b[0m in \u001b[0;36m<module>\u001b[1;34m\u001b[0m\n\u001b[0;32m      2\u001b[0m \u001b[0mmpl\u001b[0m\u001b[1;33m.\u001b[0m\u001b[0muse\u001b[0m\u001b[1;33m(\u001b[0m\u001b[1;34m\"Agg\"\u001b[0m\u001b[1;33m)\u001b[0m\u001b[1;33m\u001b[0m\u001b[1;33m\u001b[0m\u001b[0m\n\u001b[0;32m      3\u001b[0m \u001b[1;32mimport\u001b[0m \u001b[0mmatplotlib\u001b[0m\u001b[1;33m.\u001b[0m\u001b[0mpyplot\u001b[0m \u001b[1;32mas\u001b[0m \u001b[0mplt\u001b[0m\u001b[1;33m\u001b[0m\u001b[1;33m\u001b[0m\u001b[0m\n\u001b[1;32m----> 4\u001b[1;33m \u001b[1;32mimport\u001b[0m \u001b[0melice_utils\u001b[0m\u001b[1;33m\u001b[0m\u001b[1;33m\u001b[0m\u001b[0m\n\u001b[0m\u001b[0;32m      5\u001b[0m \u001b[1;32mimport\u001b[0m \u001b[0mnumpy\u001b[0m \u001b[1;32mas\u001b[0m \u001b[0mnp\u001b[0m\u001b[1;33m\u001b[0m\u001b[1;33m\u001b[0m\u001b[0m\n\u001b[0;32m      6\u001b[0m \u001b[0melice\u001b[0m \u001b[1;33m=\u001b[0m \u001b[0melice_utils\u001b[0m\u001b[1;33m.\u001b[0m\u001b[0mEliceUtils\u001b[0m\u001b[1;33m(\u001b[0m\u001b[1;33m)\u001b[0m\u001b[1;33m\u001b[0m\u001b[1;33m\u001b[0m\u001b[0m\n",
      "\u001b[1;31mModuleNotFoundError\u001b[0m: No module named 'elice_utils'"
     ]
    }
   ],
   "source": [
    "import matplotlib as mpl\n",
    "mpl.use(\"Agg\")\n",
    "import matplotlib.pyplot as plt\n",
    "import elice_utils\n",
    "import numpy as np\n",
    "elice = elice_utils.EliceUtils()\n",
    "\n",
    "def circle(P):\n",
    "    return np.linalg.norm(P) - 1 # 밑의 코드와 동일하게 동작합니다.\n",
    "    # return np.sqrt(np.sum(P * P)) - 1\n",
    "    \n",
    "def diamond(P):\n",
    "    return np.abs(P[0]) + np.abs(P[1]) - 1\n",
    "    \n",
    "def smile(P):\n",
    "    def left_eye(P):\n",
    "        eye_pos = P - np.array([-0.5, 0.5])\n",
    "        return np.sqrt(np.sum(eye_pos * eye_pos)) - 0.1\n",
    "    \n",
    "    def right_eye(P):\n",
    "        eye_pos = P - np.array([0.5, 0.5])\n",
    "        return np.sqrt(np.sum(eye_pos * eye_pos)) - 0.1\n",
    "    \n",
    "    def mouth(P):\n",
    "        if P[1] < 0:\n",
    "            return np.sqrt(np.sum(P * P)) - 0.7\n",
    "        else:\n",
    "            return 1\n",
    "    \n",
    "    return circle(P) * left_eye(P) * right_eye(P) * mouth(P)\n",
    "\n",
    "def checker(P, shape, tolerance):\n",
    "    return abs(shape(P)) < tolerance\n",
    "\n",
    "def sample(num_points, xrange, yrange, shape, tolerance):\n",
    "    accepted_points = []\n",
    "    rejected_points = []\n",
    "    \n",
    "    for i in range(num_points):\n",
    "        x = np.random.random() * (xrange[1] - xrange[0]) + xrange[0]\n",
    "        y = np.random.random() * (yrange[1] - yrange[0]) + yrange[0]\n",
    "        P = np.array([x, y])\n",
    "        \n",
    "        if (checker(P, shape, tolerance)):\n",
    "            accepted_points.append(P)\n",
    "        else:\n",
    "            rejected_points.append(P)\n",
    "    \n",
    "    return np.array(accepted_points), np.array(rejected_points)\n",
    "\n",
    "xrange = [-1.5, 1.5] # X축 범위입니다.\n",
    "yrange = [-1.5, 1.5] # Y축 범위입니다.\n",
    "accepted_points, rejected_points = sample(\n",
    "    100000, #  점의 개수를 줄이거나 늘려서 실행해 보세요. 너무 많이 늘리면 시간이 오래 걸리는 것에 주의합니다.\n",
    "    xrange, \n",
    "    yrange, \n",
    "    diamond, # smile을 circle 이나 diamond 로 바꿔서 실행해 보세요.\n",
    "    0.005) # Threshold를 0.01이나 0.0001 같은 다른 값으로 변경해 보세요.\n",
    "\n",
    "plt.figure(figsize=(xrange[1] - xrange[0], yrange[1] - yrange[0]), \n",
    "           dpi=150) # 그림이 제대로 로드되지 않는다면 DPI를 줄여보세요.\n",
    "           \n",
    "plt.scatter(rejected_points[:, 0], rejected_points[:, 1], c='lightgray', s=0.1)\n",
    "plt.scatter(accepted_points[:, 0], accepted_points[:, 1], c='black', s=1)\n",
    "\n",
    "plt.savefig(\"graph.png\")\n",
    "elice.send_image(\"graph.png\")"
   ]
  },
  {
   "cell_type": "code",
   "execution_count": null,
   "metadata": {},
   "outputs": [],
   "source": []
  }
 ],
 "metadata": {
  "kernelspec": {
   "display_name": "Python 3",
   "language": "python",
   "name": "python3"
  },
  "language_info": {
   "codemirror_mode": {
    "name": "ipython",
    "version": 3
   },
   "file_extension": ".py",
   "mimetype": "text/x-python",
   "name": "python",
   "nbconvert_exporter": "python",
   "pygments_lexer": "ipython3",
   "version": "3.7.6"
  }
 },
 "nbformat": 4,
 "nbformat_minor": 4
}
