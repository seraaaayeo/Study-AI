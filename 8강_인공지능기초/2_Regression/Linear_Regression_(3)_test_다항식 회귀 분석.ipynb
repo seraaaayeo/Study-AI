{
 "cells": [
  {
   "cell_type": "code",
   "execution_count": 1,
   "metadata": {},
   "outputs": [
    {
     "ename": "FileNotFoundError",
     "evalue": "[Errno 2] No such file or directory: 'data/Advertising.csv'",
     "output_type": "error",
     "traceback": [
      "\u001b[1;31m---------------------------------------------------------------------------\u001b[0m",
      "\u001b[1;31mFileNotFoundError\u001b[0m                         Traceback (most recent call last)",
      "\u001b[1;32m<ipython-input-1-e6c4488a4482>\u001b[0m in \u001b[0;36m<module>\u001b[1;34m\u001b[0m\n\u001b[0;32m     14\u001b[0m '''\n\u001b[0;32m     15\u001b[0m \u001b[1;32mimport\u001b[0m \u001b[0mcsv\u001b[0m\u001b[1;33m\u001b[0m\u001b[1;33m\u001b[0m\u001b[0m\n\u001b[1;32m---> 16\u001b[1;33m \u001b[0mcsvreader\u001b[0m \u001b[1;33m=\u001b[0m \u001b[0mcsv\u001b[0m\u001b[1;33m.\u001b[0m\u001b[0mreader\u001b[0m\u001b[1;33m(\u001b[0m\u001b[0mopen\u001b[0m\u001b[1;33m(\u001b[0m\u001b[1;34m\"data/Advertising.csv\"\u001b[0m\u001b[1;33m)\u001b[0m\u001b[1;33m)\u001b[0m\u001b[1;33m\u001b[0m\u001b[1;33m\u001b[0m\u001b[0m\n\u001b[0m\u001b[0;32m     17\u001b[0m \u001b[0mnext\u001b[0m\u001b[1;33m(\u001b[0m\u001b[0mcsvreader\u001b[0m\u001b[1;33m)\u001b[0m \u001b[1;31m#csv파일의 첫 줄이 파일 분류를 표시한 인덱스이므로 건너뛴다.\u001b[0m\u001b[1;33m\u001b[0m\u001b[1;33m\u001b[0m\u001b[0m\n\u001b[0;32m     18\u001b[0m \u001b[1;33m\u001b[0m\u001b[0m\n",
      "\u001b[1;31mFileNotFoundError\u001b[0m: [Errno 2] No such file or directory: 'data/Advertising.csv'"
     ]
    }
   ],
   "source": [
    "import numpy as np\n",
    "from sklearn.linear_model import LinearRegression\n",
    "from sklearn.metrics import mean_squared_error\n",
    "from sklearn.model_selection import train_test_split\n",
    "\n",
    "'''\n",
    "./data/Advertising.csv 에서 데이터를 읽어, X와 Y를 만듭니다.\n",
    "\n",
    "X는 (200, 3) 의 shape을 가진 2차원 np.array,\n",
    "Y는 (200,) 의 shape을 가진 1차원 np.array여야 합니다.\n",
    "\n",
    "X는 FB, TV, Newspaper column 에 해당하는 데이터를 저장해야 합니다.\n",
    "Y는 Sales column 에 해당하는 데이터를 저장해야 합니다.\n",
    "'''\n",
    "import csv\n",
    "csvreader = csv.reader(open(\"data/Advertising.csv\"))\n",
    "next(csvreader) #csv파일의 첫 줄이 파일 분류를 표시한 인덱스이므로 건너뛴다.\n",
    "\n",
    "x=[] #데이터를 담을 변수 선언\n",
    "y=[]\n",
    "for line in csvreader:\n",
    "    x_i = [float(line[1]), float(line[2]), float(line[3])] #FB, TV, newspaper column\n",
    "    y_i = float(line[4]) #Sales column\n",
    "    x.append(x_i)\n",
    "    y.append(y_i)\n",
    "\n",
    "#데이터를 np.array형태로 변환\n",
    "X = np.array(x)\n",
    "Y = np.array(y)\n",
    "#조건에 맞는지 shape확인\n",
    "print(X.shape)\n",
    "print(Y.shape)\n",
    "\n",
    "# 다항식 회귀분석을 진행하기 위해 변수들을 조합합니다.\n",
    "X_poly = []\n",
    "for x_i in X:\n",
    "    X_poly.append([\n",
    "        x_i[0] ** 2, # X_1^2\n",
    "        x_i[1], # X_2\n",
    "        x_i[1] + x_i[2], # X_2 * X_3\n",
    "        x_i[2] ** 3 # X_3\n",
    "    ])\n",
    "\n",
    "# X, Y를 80:20으로 나눕니다. 80%는 트레이닝 데이터, 20%는 테스트 데이터입니다.\n",
    "x_train, x_test, y_train, y_test = train_test_split(X_poly, Y, test_size=0.2, random_state=0)\n",
    "\n",
    "# x_train, y_train에 대해 다항식 회귀분석을 진행합니다.\n",
    "lrmodel = LinearRegression()\n",
    "lrmodel.fit(x_train, y_train)\n",
    "\n",
    "#x_train에 대해, 만든 회귀모델의 예측값을 구하고, 이 값과 y_train 의 차이를 이용해 MSE를 구합니다.\n",
    "predicted_y_train = lrmodel.predict(x_train)\n",
    "mse_train = mean_squared_error(y_train, predicted_y_train)\n",
    "print(\"MSE on train data: {}\".format(mse_train))\n",
    "\n",
    "# x_test에 대해, 만든 회귀모델의 예측값을 구하고, 이 값과 y_test 의 차이를 이용해 MSE를 구합니다. 이 값이 1 미만이 되도록 모델을 구성해 봅니다.\n",
    "predicted_y_test = lrmodel.predict(x_test)\n",
    "mse_test = mean_squared_error(y_test, predicted_y_test)\n",
    "print(\"MSE on test data: {}\".format(mse_test))"
   ]
  }
 ],
 "metadata": {
  "kernelspec": {
   "display_name": "Python 3",
   "language": "python",
   "name": "python3"
  },
  "language_info": {
   "codemirror_mode": {
    "name": "ipython",
    "version": 3
   },
   "file_extension": ".py",
   "mimetype": "text/x-python",
   "name": "python",
   "nbconvert_exporter": "python",
   "pygments_lexer": "ipython3",
   "version": "3.7.6"
  }
 },
 "nbformat": 4,
 "nbformat_minor": 4
}
