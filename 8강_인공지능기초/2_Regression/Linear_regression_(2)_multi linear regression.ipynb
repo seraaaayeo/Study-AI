{
 "cells": [
  {
   "cell_type": "code",
   "execution_count": 1,
   "metadata": {},
   "outputs": [
    {
     "ename": "FileNotFoundError",
     "evalue": "[Errno 2] No such file or directory: 'data/Advertising.csv'",
     "output_type": "error",
     "traceback": [
      "\u001b[1;31m---------------------------------------------------------------------------\u001b[0m",
      "\u001b[1;31mFileNotFoundError\u001b[0m                         Traceback (most recent call last)",
      "\u001b[1;32m<ipython-input-1-5367b7dee681>\u001b[0m in \u001b[0;36m<module>\u001b[1;34m\u001b[0m\n\u001b[0;32m     14\u001b[0m \u001b[1;33m\u001b[0m\u001b[0m\n\u001b[0;32m     15\u001b[0m \u001b[1;32mimport\u001b[0m \u001b[0mcsv\u001b[0m\u001b[1;33m\u001b[0m\u001b[1;33m\u001b[0m\u001b[0m\n\u001b[1;32m---> 16\u001b[1;33m \u001b[0mcsvreader\u001b[0m \u001b[1;33m=\u001b[0m \u001b[0mcsv\u001b[0m\u001b[1;33m.\u001b[0m\u001b[0mreader\u001b[0m\u001b[1;33m(\u001b[0m\u001b[0mopen\u001b[0m\u001b[1;33m(\u001b[0m\u001b[1;34m\"data/Advertising.csv\"\u001b[0m\u001b[1;33m)\u001b[0m\u001b[1;33m)\u001b[0m\u001b[1;33m\u001b[0m\u001b[1;33m\u001b[0m\u001b[0m\n\u001b[0m\u001b[0;32m     17\u001b[0m \u001b[1;33m\u001b[0m\u001b[0m\n\u001b[0;32m     18\u001b[0m \u001b[0mx\u001b[0m \u001b[1;33m=\u001b[0m \u001b[1;33m[\u001b[0m\u001b[1;33m]\u001b[0m\u001b[1;33m\u001b[0m\u001b[1;33m\u001b[0m\u001b[0m\n",
      "\u001b[1;31mFileNotFoundError\u001b[0m: [Errno 2] No such file or directory: 'data/Advertising.csv'"
     ]
    }
   ],
   "source": [
    "import numpy as np\n",
    "from sklearn.linear_model import LinearRegression\n",
    "from sklearn.metrics import r2_score\n",
    "\n",
    "'''\n",
    "./data/Advertising.csv 에서 데이터를 읽어, X와 Y를 만듭니다.\n",
    "\n",
    "X는 (200, 3) 의 shape을 가진 2차원 np.array,\n",
    "Y는 (200,) 의 shape을 가진 1차원 np.array여야 합니다.\n",
    "\n",
    "X는 FB, TV, Newspaper column 에 해당하는 데이터를 저장해야 합니다.\n",
    "Y는 Sales column 에 해당하는 데이터를 저장해야 합니다.\n",
    "'''\n",
    "\n",
    "import csv\n",
    "csvreader = csv.reader(open(\"data/Advertising.csv\"))\n",
    "\n",
    "x = []\n",
    "y = []\n",
    "\n",
    "next(csvreader) #한 줄을 넘김으로써 헤더(첫 번째 줄)을 건너뛰도록 한다.\n",
    "for line in csvreader :\n",
    "    print(line)\n",
    "    #csv각 줄의 데이터는 문자열 형식으로 저장되어 있으므로 실수형으로 바꾼다.\n",
    "    x_i = [ float(line[1]), float(line[2]), float(line[3]) ]\n",
    "    y_i = float(line[4]) #csv의 4번째 인덱스에 판매량 데이터가 들어있음.\n",
    "    x.append(x_i)\n",
    "    y.append(y_i)\n",
    "\n",
    "#데이터를 numpy array 형태로 바꾼다.\n",
    "X = np.array(x)\n",
    "Y = np.array(y)\n",
    "print(X.shape)\n",
    "\n",
    "lrmodel = LinearRegression()\n",
    "lrmodel.fit(X, Y)\n",
    "\n",
    "beta_0 = lrmodel.coef_[0] # 0번째 변수에 대한 계수 (페이스북)\n",
    "beta_1 = lrmodel.coef_[1] # 1번째 변수에 대한 계수 (TV)\n",
    "beta_2 = lrmodel.coef_[2] # 2번째 변수에 대한 계수 (신문)\n",
    "beta_3 = lrmodel.intercept_ # y절편 (기본 판매량)\n",
    "\n",
    "print(\"beta_0: %f\" % beta_0)\n",
    "print(\"beta_1: %f\" % beta_1)\n",
    "print(\"beta_2: %f\" % beta_2)\n",
    "print(\"beta_3: %f\" % beta_3)\n",
    "\n",
    "def expected_sales(fb, tv, newspaper, beta_0, beta_1, beta_2, beta_3):\n",
    "    '''\n",
    "    FB에 fb만큼, TV에 tv만큼, Newspaper에 newspaper 만큼의 광고비를 사용했고,\n",
    "    트레이닝된 모델의 weight 들이 beta_0, beta_1, beta_2, beta_3 일 때\n",
    "    예상되는 Sales 의 양을 출력합니다.\n",
    "    '''\n",
    "    sales = beta_0*fb + beta_1*tv + beta_2*newspaper + beta_3\n",
    "    \n",
    "    return sales\n",
    "\n",
    "#fb에 10만원, tv에 12만원, 신문에 3만원을 투자했을 때 예상 판매량.\n",
    "print(\"예상 판매량: %f\" % expected_sales(10, 12, 3, beta_0, beta_1, beta_2, beta_3))"
   ]
  }
 ],
 "metadata": {
  "kernelspec": {
   "display_name": "Python 3",
   "language": "python",
   "name": "python3"
  },
  "language_info": {
   "codemirror_mode": {
    "name": "ipython",
    "version": 3
   },
   "file_extension": ".py",
   "mimetype": "text/x-python",
   "name": "python",
   "nbconvert_exporter": "python",
   "pygments_lexer": "ipython3",
   "version": "3.7.6"
  }
 },
 "nbformat": 4,
 "nbformat_minor": 4
}
