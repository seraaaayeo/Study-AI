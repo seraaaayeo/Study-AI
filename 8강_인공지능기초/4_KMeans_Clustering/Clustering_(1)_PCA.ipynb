{
 "cells": [
  {
   "cell_type": "code",
   "execution_count": 2,
   "metadata": {},
   "outputs": [
    {
     "name": "stdout",
     "output_type": "stream",
     "text": [
      "(178, 13)\n"
     ]
    },
    {
     "data": {
      "image/png": "[encoded data removed]",
      "text/plain": [
       "<Figure size 432x288 with 1 Axes>"
      ]
     },
     "metadata": {
      "needs_background": "light"
     },
     "output_type": "display_data"
    }
   ],
   "source": [
    "import csv\n",
    "import sklearn.decomposition\n",
    "import matplotlib.pyplot as plt\n",
    "import numpy as np\n",
    "\n",
    "def main():\n",
    "    X, attributes = input_data()\n",
    "    #print(X)\n",
    "    print(X.shape) #(178,13)\n",
    "    \n",
    "    pca_array = normalize(X)\n",
    "    #print(pca_array) #데이터가 0과 1사이 값으로 정규화됨.\n",
    "    \n",
    "    pca, pca_array = run_PCA(X, 2)\n",
    "    visualize_2d_wine(pca_array)\n",
    "\n",
    "def input_data():\n",
    "    X = []\n",
    "    attributes = []\n",
    "    \n",
    "    with open(\"data/attributes.txt\") as fp:\n",
    "        attributes = fp.readlines()\n",
    "    attributes = [x.strip() for x in attributes]\n",
    "    #print(attributes)\n",
    "    \n",
    "    csvreader = csv.reader(open(\"data/wine.csv\"))\n",
    "    for line in csvreader:\n",
    "        float_line = [float(x) for x in line]\n",
    "        X.append(float_line)\n",
    "\n",
    "    return np.array(X), attributes\n",
    "\n",
    "def run_PCA(X, num_components):\n",
    "    pca = sklearn.decomposition.PCA(n_components=num_components)\n",
    "    pca.fit(X) #X라는 데이터를 해당 pca 모델에 집어넣는다.\n",
    "    pca_array = pca.transform(X) #실제로 데이터를 변환한다.\n",
    "    \n",
    "    #print(pca_array) #2차원으로 줄어듦.\n",
    "    \n",
    "    return pca, pca_array\n",
    "    \n",
    "def normalize(X):\n",
    "    '''\n",
    "    각각의 feature에 대해,\n",
    "    178개의 데이터에 나타나는 해당하는 feature의 값이 최소 0, 최대 1이 되도록\n",
    "    선형적으로 데이터를 이동시킵니다.\n",
    "    \n",
    "    Proline feature같은 경우 1000 이상의 큰 값이기 때문에 PCA 진행 시 주성분이 여기서 발견될 확률이 높음.\n",
    "    따라서 linear scaling을 하는 것이다.\n",
    "    '''\n",
    "    for i in range(X.shape[1]): #X.shape이 (178, 13)이므로 13개의 차원에 대해 진행\n",
    "        X[:, i] = X[:, i] - np.min(X[:,i]) #최솟값을 뺀다.\n",
    "        X[:, i] = X[:, i] / np.max(X[:,i]) #최댓값으로 나눈다.\n",
    "\n",
    "    return X\n",
    "\n",
    "def visualize_2d_wine(X):\n",
    "    '''X를 시각화'''\n",
    "    plt.scatter(X[:,0], X[:,1]) #0번째와 1번째 column의 모든 row를 가져가라.\n",
    "    plt.savefig(\"image_pca.png\")\n",
    ".sh\n",
    "if __name__ == '__main__':\n",
    "    main()"
   ]
  }
 ],
 "metadata": {
  "kernelspec": {
   "display_name": "Python 3",
   "language": "python",
   "name": "python3"
  },
  "language_info": {
   "codemirror_mode": {
    "name": "ipython",
    "version": 3
   },
   "file_extension": ".py",
   "mimetype": "text/x-python",
   "name": "python",
   "nbconvert_exporter": "python",
   "pygments_lexer": "ipython3",
   "version": "3.7.6"
  }
 },
 "nbformat": 4,
 "nbformat_minor": 4
}
