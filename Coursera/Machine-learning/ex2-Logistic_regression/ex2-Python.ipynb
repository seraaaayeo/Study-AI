{
 "cells": [
  {
   "cell_type": "markdown",
   "metadata": {},
   "source": [
    "# Coursera Machine Learning by Andrew Ng\n",
    "\n",
    "## Programming Exercise 2: Logistic Regression\n",
    "\n",
    "본 과제는 매트랩으로 진행되는 과제이나, 매트랩에 익숙하지 않은 관계로 파이썬으로 구현하였다.\n",
    "\n",
    "과제 설명 파일에 제시된 부분을 구현하였다. 과제 설명과 매트랩 파일의 힌트를 참고하였다."
   ]
  },
  {
   "cell_type": "markdown",
   "metadata": {},
   "source": [
    "## Introduction\n",
    "두개의 다른 데이터셋을 가지고 로지스틱 회귀를 할 것이다.\n",
    "\n",
    "구현해야 할 파일은 `plotData.m`, `sigmoid.m`, `costFunction.m`, `predict.m`, `costFunctionReg.m`"
   ]
  },
  {
   "cell_type": "markdown",
   "metadata": {},
   "source": [
    "## 1. Logistic Regression\n",
    "이 부분에서는 로지스틱 회귀 모델을 구현한다. 모델은 학생을 대학에 입학을 승인할 것인지에 관한 모델임.\n",
    "\n",
    "너는 대학 본부의 관리자이다. 너는 결정하고 싶다 각 지원자의 승인 자격을 그들의 두 시험의 결과를 바탕으로. 너는 이전 지원자들로부터 데이터를 갖고 있다. 이 데이터를 로지스틱 회귀의 트레이닝 셋으로 사용할 것이다. 각각의 트레이닝 example에는 두 시험으로부터 얻은 지원자의 점수와 입할 결정이 있다.\n",
    "\n",
    "네가 할 일은 **classification model**을 생성하는 것이다. 지원자들의 입학 가능성을 측정하기 위해.\n",
    "\n",
    "**요약**\n",
    "* training dataset : 옛날 지원자들의 시험 점수 및 입학 승인 여부\n",
    "* 해야할 것 : 새로운 지원자들의 입학 가능성을 측정하기 위한 분류 모델 생성(Logistic regression)"
   ]
  },
  {
   "cell_type": "markdown",
   "metadata": {},
   "source": [
    "### 1.1 Visualizing the data\n",
    "plotData.m의 빈 부분을 구현해라. 데이터는 ex2.m을 로드해서 사용.\n",
    "\n",
    "합격자(admitted)는 검정색 '+' 로, 불합격자는 노란색 'o'로 마킹(plotted)\n",
    "\n",
    "힌트 코드\n",
    "```\n",
    "pos = find(y==1); neg = find(y==0);\n",
    "\n",
    "plot(X(pos, 1), X(pos, 2), 'K+', 'LineWidth', 2, ... 'MarkerSize', 7);\n",
    "plot(X(neg, 1), X(neg, 2), 'k0', 'MarkerFaceColor', 'y', ... 'MarkerSize', 7);\n",
    "```"
   ]
  },
  {
   "cell_type": "code",
   "execution_count": 75,
   "metadata": {},
   "outputs": [],
   "source": [
    "import matplotlib.pyplot as plt\n",
    "import numpy as np"
   ]
  },
  {
   "cell_type": "code",
   "execution_count": 76,
   "metadata": {},
   "outputs": [
    {
     "name": "stdout",
     "output_type": "stream",
     "text": [
      "[34.62365962 78.02469282  0.        ]\n"
     ]
    }
   ],
   "source": [
    "data = np.loadtxt('ex2data1.txt', delimiter=',')\n",
    "print(data[0])"
   ]
  },
  {
   "cell_type": "code",
   "execution_count": 77,
   "metadata": {},
   "outputs": [
    {
     "name": "stdout",
     "output_type": "stream",
     "text": [
      "[34.62365962 78.02469282]\n",
      "[0. 0. 0. 1. 1. 0. 1. 1. 1. 1. 0. 0. 1. 1. 0. 1. 1. 0. 1. 1. 0. 1. 0. 0.\n",
      " 1. 1. 1. 0. 0. 0. 1. 1. 0. 1. 0. 0. 0. 1. 0. 0. 1. 0. 1. 0. 0. 0. 1. 1.\n",
      " 1. 1. 1. 1. 1. 0. 0. 0. 1. 0. 1. 1. 1. 0. 0. 0. 0. 0. 1. 0. 1. 1. 0. 1.\n",
      " 1. 1. 1. 1. 1. 1. 0. 0. 1. 1. 1. 1. 1. 1. 0. 1. 1. 0. 1. 1. 0. 1. 1. 1.\n",
      " 1. 1. 1. 1.]\n",
      "(100, 2)\n",
      "(100,)\n"
     ]
    }
   ],
   "source": [
    "# 데이터의 첫 번째와 두 번째 컬럼은 시험 점수, 마지막 컬럼은 Label(합격(1) 불합격(0))\n",
    "data = np.array(data) # 데이터의 행렬 변환\n",
    "\n",
    "X = data[:, 0:2] #Feature\n",
    "y = data[:, 2] # Label\n",
    "\n",
    "print(X[0])\n",
    "print(y)\n",
    "print(X.shape)\n",
    "print(y.shape)"
   ]
  },
  {
   "cell_type": "code",
   "execution_count": 78,
   "metadata": {},
   "outputs": [],
   "source": [
    "def plotData(X, y):\n",
    "    # 합격자와 불합격자 인덱스 찾기\n",
    "    pos = np.where(y==1.)\n",
    "    neg = np.where(y==0.)\n",
    "    \n",
    "    plt.plot(X[pos, 0], X[pos, 1], 'k+', color='blue', label='Admitted')\n",
    "    plt.plot(X[neg, 0], X[neg, 1], 'ko', color='y', label='Not admitted')\n",
    "    \n",
    "    plt.xlabel('Exam 1 score')\n",
    "    plt.ylabel('Exam 2 score')"
   ]
  },
  {
   "cell_type": "code",
   "execution_count": 79,
   "metadata": {},
   "outputs": [
    {
     "data": {
      "image/png": "[encoded data removed]",
      "text/plain": [
       "<Figure size 432x288 with 1 Axes>"
      ]
     },
     "metadata": {
      "needs_background": "light"
     },
     "output_type": "display_data"
    }
   ],
   "source": [
    "plotData(X, y)"
   ]
  },
  {
   "cell_type": "markdown",
   "metadata": {},
   "source": [
    "### 1.2 Implement\n",
    "* Sigmoid function\n",
    "    * logistic regression의 hypotesis\n",
    "    * 여기서 함수 g는 sigmoid function이다. sigmoid function은 다음과 같음.\n",
    "    * `sigmoid.m` 내의 함수를 구현해라\n",
    "    * 아주 큰 양의 값에 대해서 sigmoid는 1에 가깝고, 아주 큰 음의 값에 대해 sigmoid는 0에 가까움.\n",
    "    * sigmoid(0)은 정확히 0.5"
   ]
  },
  {
   "cell_type": "code",
   "execution_count": 80,
   "metadata": {},
   "outputs": [],
   "source": [
    "def sigmoid(z):\n",
    "    g = 1 / (1+np.exp(-z))\n",
    "    return g"
   ]
  },
  {
   "cell_type": "code",
   "execution_count": 81,
   "metadata": {},
   "outputs": [
    {
     "name": "stdout",
     "output_type": "stream",
     "text": [
      "sigmoid test : sigmoid(50) = 1.0, sigmoid(-50) = 1.928749847963918e-22, sigmoid(0) = 0.5\n"
     ]
    }
   ],
   "source": [
    "print('sigmoid test : sigmoid(50) = {}, sigmoid(-50) = {}, sigmoid(0) = {}'.format(sigmoid(50), sigmoid(-50), sigmoid(0)))"
   ]
  },
  {
   "cell_type": "markdown",
   "metadata": {},
   "source": [
    "* cost function\n",
    "    * logistic regression에 대한 cost function과 gradient 구현.\n",
    "    * `costFunction.m` 내의 코드를 완성해라\n",
    "    * cost와 gradient를 반환할 것\n",
    "    * ex2.m은 초기 파라미터 theta를 사용하여 costFunction을 호출한다.\n",
    "    * **cost는 약 0.693이어야 한다.**"
   ]
  },
  {
   "cell_type": "code",
   "execution_count": 82,
   "metadata": {},
   "outputs": [
    {
     "name": "stdout",
     "output_type": "stream",
     "text": [
      "100 2\n"
     ]
    }
   ],
   "source": [
    "m, n = X.shape\n",
    "print(m, n)"
   ]
  },
  {
   "cell_type": "code",
   "execution_count": 85,
   "metadata": {},
   "outputs": [
    {
     "name": "stdout",
     "output_type": "stream",
     "text": [
      "(100, 3)\n",
      "[34.62365962 78.02469282  1.        ]\n",
      "(100, 3)\n",
      "[34.62365962 78.02469282  1.        ]\n",
      "[0. 0. 0.]\n"
     ]
    }
   ],
   "source": [
    "# 절편 부분을 추가\n",
    "print(X.shape)\n",
    "print(X[0])\n",
    "\n",
    "X_ = np.zeros((m, 3))\n",
    "X_[:, -1] = np.ones(m) #절편 추가\n",
    "X_[:, 0:2] = data[:, 0:2] #Feature data\n",
    "print(X_.shape)\n",
    "print(X_[0])\n",
    "\n",
    "# 파라미터 초기화\n",
    "init_theta = np.zeros(n+1)\n",
    "print(init_theta)"
   ]
  },
  {
   "cell_type": "code",
   "execution_count": 88,
   "metadata": {},
   "outputs": [],
   "source": [
    "def costFunction(theta, X, y):\n",
    "    m, n = X.shape\n",
    "    J=0\n",
    "    grad = np.zeros(np.size(theta))\n",
    "    \n",
    "    hypothesis = sigmoid(X.dot(theta))\n",
    "    J = (1/m) * sum(-y*np.log(hypothesis) - (1-y)*np.log(1-hypothesis))\n",
    "    grad = (1/m) * (hypothesis-y).T.dot(X)\n",
    "    \n",
    "    return J, grad"
   ]
  },
  {
   "cell_type": "code",
   "execution_count": 89,
   "metadata": {},
   "outputs": [
    {
     "name": "stdout",
     "output_type": "stream",
     "text": [
      "cost:  0.693147180559946\n",
      "grad:  [-12.00921659 -11.26284221  -0.1       ]\n"
     ]
    }
   ],
   "source": [
    "cost, grad = costFunction(init_theta, X_, y)\n",
    "print('cost: ', cost)\n",
    "print('grad: ', grad)"
   ]
  },
  {
   "cell_type": "code",
   "execution_count": null,
   "metadata": {},
   "outputs": [],
   "source": []
  }
 ],
 "metadata": {
  "kernelspec": {
   "display_name": "Python 3",
   "language": "python",
   "name": "python3"
  },
  "language_info": {
   "codemirror_mode": {
    "name": "ipython",
    "version": 3
   },
   "file_extension": ".py",
   "mimetype": "text/x-python",
   "name": "python",
   "nbconvert_exporter": "python",
   "pygments_lexer": "ipython3",
   "version": "3.7.6"
  }
 },
 "nbformat": 4,
 "nbformat_minor": 4
}
