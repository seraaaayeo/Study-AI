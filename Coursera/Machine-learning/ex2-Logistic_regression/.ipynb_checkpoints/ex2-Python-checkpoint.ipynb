{
 "cells": [
  {
   "cell_type": "markdown",
   "metadata": {},
   "source": [
    "# Coursera Machine Learning by Andrew Ng\n",
    "\n",
    "## Programming Exercise 2: Logistic Regression\n",
    "\n",
    "본 과제는 매트랩으로 진행되는 과제이나, 매트랩에 익숙하지 않은 관계로 파이썬으로 구현하였다.\n",
    "\n",
    "과제 설명 파일에 제시된 부분을 구현하였다. 과제 설명과 매트랩 파일의 힌트를 참고하였다.\n",
    "\n",
    "**보고서 대신 코드와 설명, 주석을 함께 작성한 해당 파일을 첨부드립니다.**"
   ]
  },
  {
   "cell_type": "markdown",
   "metadata": {},
   "source": [
    "## Introduction\n",
    "두개의 다른 데이터셋을 가지고 로지스틱 회귀를 할 것이다.\n",
    "\n",
    "구현해야 할 파일은 `plotData.m`, `sigmoid.m`, `costFunction.m`, `predict.m`, `costFunctionReg.m`"
   ]
  },
  {
   "cell_type": "markdown",
   "metadata": {},
   "source": [
    "## 1. Logistic Regression\n",
    "이 부분에서는 로지스틱 회귀 모델을 구현한다. 모델은 학생을 대학에 입학을 승인할 것인지에 관한 모델임.\n",
    "\n",
    "너는 대학 본부의 관리자이다. 너는 결정하고 싶다 각 지원자의 승인 자격을 그들의 두 시험의 결과를 바탕으로. 너는 이전 지원자들로부터 데이터를 갖고 있다. 이 데이터를 로지스틱 회귀의 트레이닝 셋으로 사용할 것이다. 각각의 트레이닝 example에는 두 시험으로부터 얻은 지원자의 점수와 입할 결정이 있다.\n",
    "\n",
    "네가 할 일은 **classification model**을 생성하는 것이다. 지원자들의 입학 가능성을 측정하기 위해.\n",
    "\n",
    "**요약**\n",
    "* training dataset : 옛날 지원자들의 시험 점수 및 입학 승인 여부\n",
    "* 해야할 것 : 새로운 지원자들의 입학 가능성을 측정하기 위한 분류 모델 생성(Logistic regression)"
   ]
  },
  {
   "cell_type": "markdown",
   "metadata": {},
   "source": [
    "### 1.1 Visualizing the data\n",
    "plotData.m의 빈 부분을 구현해라. 데이터는 ex2.m을 로드해서 사용.\n",
    "\n",
    "합격자(admitted)는 검정색 '+' 로, 불합격자는 노란색 'o'로 마킹(plotted)\n",
    "\n",
    "힌트 코드\n",
    "```\n",
    "pos = find(y==1); neg = find(y==0);\n",
    "\n",
    "plot(X(pos, 1), X(pos, 2), 'K+', 'LineWidth', 2, ... 'MarkerSize', 7);\n",
    "plot(X(neg, 1), X(neg, 2), 'k0', 'MarkerFaceColor', 'y', ... 'MarkerSize', 7);\n",
    "```"
   ]
  },
  {
   "cell_type": "code",
   "execution_count": 100,
   "metadata": {},
   "outputs": [],
   "source": [
    "import matplotlib.pyplot as plt\n",
    "import numpy as np"
   ]
  },
  {
   "cell_type": "code",
   "execution_count": 101,
   "metadata": {},
   "outputs": [
    {
     "name": "stdout",
     "output_type": "stream",
     "text": [
      "[34.62365962 78.02469282  0.        ]\n"
     ]
    }
   ],
   "source": [
    "data = np.loadtxt('ex2data1.txt', delimiter=',')\n",
    "print(data[0])"
   ]
  },
  {
   "cell_type": "code",
   "execution_count": 102,
   "metadata": {},
   "outputs": [
    {
     "name": "stdout",
     "output_type": "stream",
     "text": [
      "[34.62365962 78.02469282]\n",
      "[0. 0. 0. 1. 1. 0. 1. 1. 1. 1. 0. 0. 1. 1. 0. 1. 1. 0. 1. 1. 0. 1. 0. 0.\n",
      " 1. 1. 1. 0. 0. 0. 1. 1. 0. 1. 0. 0. 0. 1. 0. 0. 1. 0. 1. 0. 0. 0. 1. 1.\n",
      " 1. 1. 1. 1. 1. 0. 0. 0. 1. 0. 1. 1. 1. 0. 0. 0. 0. 0. 1. 0. 1. 1. 0. 1.\n",
      " 1. 1. 1. 1. 1. 1. 0. 0. 1. 1. 1. 1. 1. 1. 0. 1. 1. 0. 1. 1. 0. 1. 1. 1.\n",
      " 1. 1. 1. 1.]\n",
      "(100, 2)\n",
      "(100,)\n"
     ]
    }
   ],
   "source": [
    "# 데이터의 첫 번째와 두 번째 컬럼은 시험 점수, 마지막 컬럼은 Label(합격(1) 불합격(0))\n",
    "data = np.array(data) # 데이터의 행렬 변환\n",
    "\n",
    "X = data[:, 0:2] #Feature\n",
    "y = data[:, 2] # Label\n",
    "\n",
    "print(X[0])\n",
    "print(y)\n",
    "print(X.shape)\n",
    "print(y.shape)"
   ]
  },
  {
   "cell_type": "code",
   "execution_count": 103,
   "metadata": {},
   "outputs": [],
   "source": [
    "def plotData(X, y):\n",
    "    # 합격자와 불합격자 인덱스 찾기\n",
    "    pos = np.where(y==1.)\n",
    "    neg = np.where(y==0.)\n",
    "    \n",
    "    plt.plot(X[pos, 0], X[pos, 1], 'k+', color='blue', label='Admitted')\n",
    "    plt.plot(X[neg, 0], X[neg, 1], 'ko', color='y', label='Not admitted')\n",
    "    \n",
    "    plt.xlabel('Exam 1 score')\n",
    "    plt.ylabel('Exam 2 score')"
   ]
  },
  {
   "cell_type": "code",
   "execution_count": 104,
   "metadata": {},
   "outputs": [
    {
     "data": {
      "image/png": "[encoded data removed]",
      "text/plain": [
       "<Figure size 432x288 with 1 Axes>"
      ]
     },
     "metadata": {
      "needs_background": "light"
     },
     "output_type": "display_data"
    }
   ],
   "source": [
    "plotData(X, y)"
   ]
  },
  {
   "cell_type": "markdown",
   "metadata": {},
   "source": [
    "### 1.2 Implement\n",
    "#### 1.2.1 Sigmoid function\n",
    "* logistic regression의 hypotesis\n",
    "    * <img src=\"./assets/1.png\" alt=\"hypothesis\"></img>\n",
    "* 여기서 함수 g는 sigmoid function이다. sigmoid function은 다음과 같음.\n",
    "    * <img src=\"./assets/2.png\" alt=\"sigmoid\"></img>\n",
    "* `sigmoid.m` 내의 함수를 구현해라\n",
    "    * 아주 큰 양의 값에 대해서 sigmoid는 1에 가깝고, 아주 큰 음의 값에 대해 sigmoid는 0에 가까움.\n",
    "    * sigmoid(0)은 정확히 0.5"
   ]
  },
  {
   "cell_type": "code",
   "execution_count": 105,
   "metadata": {},
   "outputs": [],
   "source": [
    "def sigmoid(z):\n",
    "    g = 1 / (1+np.exp(-z))\n",
    "    return g"
   ]
  },
  {
   "cell_type": "code",
   "execution_count": 106,
   "metadata": {},
   "outputs": [
    {
     "name": "stdout",
     "output_type": "stream",
     "text": [
      "sigmoid test : sigmoid(50) = 1.0, sigmoid(-50) = 1.928749847963918e-22, sigmoid(0) = 0.5\n"
     ]
    }
   ],
   "source": [
    "print('sigmoid test : sigmoid(50) = {}, sigmoid(-50) = {}, sigmoid(0) = {}'.format(sigmoid(50), sigmoid(-50), sigmoid(0)))"
   ]
  },
  {
   "cell_type": "markdown",
   "metadata": {},
   "source": [
    "#### 1.2.1 cost function\n",
    "* cost function은 다음과 같다.\n",
    "    * <img src=\"./assets/3.png\" alt=\"cost function\"></img>\n",
    "* 이를 바탕으로 한 gradient descent는 다음과 같다.\n",
    "    * <img src=\"./assets/4.png\" alt=\"gradient\"></img>\n",
    "* logistic regression에 대한 cost function과 gradient 구현.\n",
    "    * `costFunction.m` 내의 코드를 완성해라\n",
    "    * cost와 gradient를 반환할 것\n",
    "    * ex2.m은 초기 파라미터 theta를 사용하여 costFunction을 호출한다.\n",
    "    * **cost는 약 0.693이어야 한다.**"
   ]
  },
  {
   "cell_type": "code",
   "execution_count": 107,
   "metadata": {},
   "outputs": [
    {
     "name": "stdout",
     "output_type": "stream",
     "text": [
      "100 2\n"
     ]
    }
   ],
   "source": [
    "m, n = X.shape\n",
    "print(m, n)"
   ]
  },
  {
   "cell_type": "code",
   "execution_count": 108,
   "metadata": {},
   "outputs": [
    {
     "name": "stdout",
     "output_type": "stream",
     "text": [
      "(100, 2)\n",
      "[34.62365962 78.02469282]\n",
      "(100, 3)\n",
      "[34.62365962 78.02469282  1.        ]\n",
      "[0. 0. 0.]\n"
     ]
    }
   ],
   "source": [
    "# 절편 부분을 추가\n",
    "print(X.shape)\n",
    "print(X[0])\n",
    "\n",
    "X_ = np.zeros((m, 3))\n",
    "X_[:, -1] = np.ones(m) #절편 추가\n",
    "X_[:, 0:2] = data[:, 0:2] #Feature data\n",
    "print(X_.shape)\n",
    "print(X_[0])\n",
    "\n",
    "# 파라미터 초기화\n",
    "init_theta = np.zeros(n+1)\n",
    "print(init_theta)"
   ]
  },
  {
   "cell_type": "code",
   "execution_count": 109,
   "metadata": {},
   "outputs": [],
   "source": [
    "def costFunction(theta, X, y):\n",
    "    m, n = X.shape\n",
    "    J=0\n",
    "    grad = np.zeros(np.size(theta))\n",
    "    \n",
    "    hypothesis = sigmoid(X.dot(theta))\n",
    "    J = (1/m) * sum(-y*np.log(hypothesis) - (1-y)*np.log(1-hypothesis))\n",
    "    grad = (1/m) * (hypothesis-y).T.dot(X)\n",
    "    \n",
    "    return J, grad"
   ]
  },
  {
   "cell_type": "code",
   "execution_count": 110,
   "metadata": {},
   "outputs": [
    {
     "name": "stdout",
     "output_type": "stream",
     "text": [
      "cost:  0.693147180559946\n",
      "grad:  [-12.00921659 -11.26284221  -0.1       ]\n"
     ]
    }
   ],
   "source": [
    "cost, grad = costFunction(init_theta, X_, y)\n",
    "print('cost: ', cost)\n",
    "print('grad: ', grad)"
   ]
  },
  {
   "cell_type": "markdown",
   "metadata": {},
   "source": [
    "#### 1.2.3 Learning parameters using `fminunc`\n",
    "이전 과제(linear regression)에서, 너는 그래디언트 디센트를 통해 선형 회귀의 최적의 파라미터를 찾았다. 너는 cost function을 쓰고 그것의 gradient를 계산하고, 단계적으로 gradient descent를 수행했다.\n",
    "\n",
    "이번에는, gradient descent를 단계적으로 수행하는 대신 너는 Octave/MATLAB의 내장함수 `fminunc`를 사용할 것이다.\n",
    "Octave/MATLAB의 fminunc는 최적의 solver이다 uconstrained function의 최소값을 찾을 때. 로지스틱 회귀에 있어, 너는 cost functoin J(theta)를 파라미터 theta를 가지고 최적화하는 것을 바랄 것이다.\n",
    "\n",
    "정확하게, 너는 `fminunc`를 사용해라\n",
    "\n",
    "* 우리가 최적화하려는 것은 파라미터의 초기값이다.\n",
    "* training set과 특별한 theta값을 주었을 때, 함수는 데이터셋 (X,y)의 theta에 대한 logistic regression cost와 gradient를 계산한다. \n",
    "\n",
    "우리는 이미 `ex2.m`에 `fminunc`를 호출하는 코드를 작성했다.\n",
    "```\n",
    "# Set options for fminunc\n",
    "options = optimset('GradObj', 'on', 'MaxIter', 400);\n",
    "\n",
    "# Run\n",
    "[theta, cost] = ... fminunc(@(t)(costFunction(t, X, y)), init_theta, options);\n",
    "```\n",
    "\n",
    "위 코드 snippet 설명\n",
    "* fminunc와 함께 사용될 옵션 정의 -> GradObj 옵션을 on으로 설정하였다. \n",
    "    * 이것은 fminunc에게 우리의 함수가 cost, gradient를 둘 다 반환함을 알려줌.\n",
    "    * 이것은 fminunc에게 gradient를 사용함을 허락한다 이 함수를 최소화할 때\n",
    "* 우리는 MaxIter를 400으로 설정하였다.\n",
    "* 네가 costFunction을 제대로 구현했다면, fminunc는 올바른 최적 파라미터로 수렴하고 cost와 theta의 최종값을 반환함.\n",
    "\n",
    "fminunc이 완성되면, ex2.m은 costFunction 함수를 최ㅏ적의 theta로 호출할 것이다. **cost가 약 0.203이어야 한다.**\n",
    "\n",
    "최종 theta값은 traning data의 decision boundary를 plot하는 데 사용된다. `plotDecisionBoundary.m` 파일을 완성해라"
   ]
  },
  {
   "cell_type": "code",
   "execution_count": 111,
   "metadata": {},
   "outputs": [],
   "source": [
    "# ex2.m의 part3: fmiunc를 사용해서 최적의 theta 파라미터를 찾는 부분\n",
    "# 우선 fminunc 대신 minimize 기능을 제공하는 scipy 라이브러리를 임포트함.\n",
    "from scipy.optimize import minimize"
   ]
  },
  {
   "cell_type": "markdown",
   "metadata": {},
   "source": [
    "`scipy.optimize`는 다음 문제를 풀 수 있다.\n",
    "\n",
    "* Local optimization : `minimize`\n",
    "* Global optimizatoin : `bashinghopping`, `differential_evolution`\n",
    "* Least-squares minimization, curve fitting : `least_squares`, `curve_fit`\n",
    "* Scalar univariate function의 최소화 또는 해 찾기 : `minimizer_scaler`, `root_scaler`\n",
    "* Multivariate equation system의 해 찾기 : `root`\n",
    "* Linear Programming : `linprog`\n",
    "\n",
    "Local optimizatoin\n",
    "\n",
    "`scipy.optimize.minimize(fun, x0, args=(), method=None, jac=None, hess=None, hessp=None, bounds=None, constraints=(), tol=None, callback=None, options=None)`\n",
    "* `fun`, `x0`: 목적함수, 초기값\n",
    "* `method` : 사용할 알고리즘(solver)을 나타내는 문자열로, Nelder-Mead, Powell, CG, BFGS, trust-ncg 등\n",
    "* `jac`, `hess`, `hessp`: 목적함수의 자코비언, 헤시안, 헤싱ㄴ과 임의 벡터의 곱"
   ]
  },
  {
   "cell_type": "code",
   "execution_count": 112,
   "metadata": {},
   "outputs": [],
   "source": [
    "# Set options for fminunc 부분\n",
    "Fminunc_cost = lambda t: costFunction(t, X_, y)[0]\n",
    "Fminunc_grad = lambda t: costFunction(t, X_, y)[1]"
   ]
  },
  {
   "cell_type": "code",
   "execution_count": 113,
   "metadata": {},
   "outputs": [],
   "source": [
    "# fmiunc를 실행하면 theta와 cost를 반환\n",
    "fminunc = minimize(Fminunc_cost, init_theta, method='TNC', jac=Fminunc_grad)"
   ]
  },
  {
   "cell_type": "code",
   "execution_count": 114,
   "metadata": {},
   "outputs": [
    {
     "name": "stdout",
     "output_type": "stream",
     "text": [
      "cost:  0.203497701589475\n",
      "theta:  [  0.20623159   0.20147148 -25.1613185 ]\n"
     ]
    }
   ],
   "source": [
    "cost = fminunc.fun\n",
    "theta = fminunc.x\n",
    "\n",
    "print('cost: ', cost)\n",
    "print('theta: ', theta)"
   ]
  },
  {
   "cell_type": "code",
   "execution_count": 127,
   "metadata": {},
   "outputs": [],
   "source": [
    "# 아직 미완성\n",
    "def mapFeature(x1, x2):\n",
    "    degree = 6\n",
    "    m = np.size(x1)\n",
    "    out = np.ones(m)\n",
    "    \n",
    "    res = []\n",
    "    res.append(out)\n",
    "    \n",
    "    for i in np.arange(1, degree+1):\n",
    "        for j in np.arange(0, i+1):\n",
    "            output = (x1**(i-j)) * (x2**j)\n",
    "            res.append(output)\n",
    "    \n",
    "    return np.array(res).T"
   ]
  },
  {
   "cell_type": "code",
   "execution_count": 159,
   "metadata": {},
   "outputs": [
    {
     "name": "stdout",
     "output_type": "stream",
     "text": [
      "(100, 2)\n",
      "100\n"
     ]
    }
   ],
   "source": [
    "# 아래 부분은 매트랩 코드를 그대로 따 왔음.\n",
    "# 아래 오류를 해결하고 해당 코드를 완성해야 desicion boundary를 그릴 수 있다.\n",
    "print(X.shape)\n",
    "print(np.size(X,0))\n",
    "def plotDecisionBoundary(theta, X_, y):\n",
    "    plotData(X_[:, 0:2], y)\n",
    "    \n",
    "    if np.size(X_, 0) <=3:\n",
    "        # line을 그리기 위해 두개의 점을 선택한다.\n",
    "        plot_x = np.array([np.min(X_[:,0])-2, np.max(X[:,0]+2)])\n",
    "        # decision boundary line 계산\n",
    "        plot_y = (-1/theta[1]) * (theta[0]*plot_x+theta[0])\n",
    "        \n",
    "        plot(plot_x, plot_y)\n",
    "        plt.axis([30,100,30,100])\n",
    "        \n",
    "    else:\n",
    "        #grid range 설정\n",
    "        u = np.linspace(-1, 1.5, 50)\n",
    "        v = np.linspace(-1, 1.5, 50)\n",
    "        \n",
    "        z = np.zeros((np.size(u), np.size(v)))\n",
    "        \n",
    "        #evaluate z\n",
    "        for i in np.arange(np.size(u)):\n",
    "            for j in np.arange(np.size(v)):\n",
    "                z[i,j] = np.sum(mapFeature(u[i],v[j]) * theta)\n",
    "        z = z.T\n",
    "        plt.contour(u,v,z)"
   ]
  },
  {
   "cell_type": "code",
   "execution_count": 129,
   "metadata": {},
   "outputs": [
    {
     "ename": "ValueError",
     "evalue": "operands could not be broadcast together with shapes (28,) (3,) ",
     "output_type": "error",
     "traceback": [
      "\u001b[1;31m---------------------------------------------------------------------------\u001b[0m",
      "\u001b[1;31mValueError\u001b[0m                                Traceback (most recent call last)",
      "\u001b[1;32m<ipython-input-129-b7a64c351a57>\u001b[0m in \u001b[0;36m<module>\u001b[1;34m\u001b[0m\n\u001b[1;32m----> 1\u001b[1;33m \u001b[0mplotDecisionBoundary\u001b[0m\u001b[1;33m(\u001b[0m\u001b[0mtheta\u001b[0m\u001b[1;33m,\u001b[0m \u001b[0mX_\u001b[0m\u001b[1;33m,\u001b[0m \u001b[0my\u001b[0m\u001b[1;33m)\u001b[0m\u001b[1;33m\u001b[0m\u001b[1;33m\u001b[0m\u001b[0m\n\u001b[0m",
      "\u001b[1;32m<ipython-input-128-a39d8cd5974b>\u001b[0m in \u001b[0;36mplotDecisionBoundary\u001b[1;34m(theta, X_, y)\u001b[0m\n\u001b[0;32m     25\u001b[0m         \u001b[1;32mfor\u001b[0m \u001b[0mi\u001b[0m \u001b[1;32min\u001b[0m \u001b[0mnp\u001b[0m\u001b[1;33m.\u001b[0m\u001b[0marange\u001b[0m\u001b[1;33m(\u001b[0m\u001b[0mnp\u001b[0m\u001b[1;33m.\u001b[0m\u001b[0msize\u001b[0m\u001b[1;33m(\u001b[0m\u001b[0mu\u001b[0m\u001b[1;33m)\u001b[0m\u001b[1;33m)\u001b[0m\u001b[1;33m:\u001b[0m\u001b[1;33m\u001b[0m\u001b[1;33m\u001b[0m\u001b[0m\n\u001b[0;32m     26\u001b[0m             \u001b[1;32mfor\u001b[0m \u001b[0mj\u001b[0m \u001b[1;32min\u001b[0m \u001b[0mnp\u001b[0m\u001b[1;33m.\u001b[0m\u001b[0marange\u001b[0m\u001b[1;33m(\u001b[0m\u001b[0mnp\u001b[0m\u001b[1;33m.\u001b[0m\u001b[0msize\u001b[0m\u001b[1;33m(\u001b[0m\u001b[0mv\u001b[0m\u001b[1;33m)\u001b[0m\u001b[1;33m)\u001b[0m\u001b[1;33m:\u001b[0m\u001b[1;33m\u001b[0m\u001b[1;33m\u001b[0m\u001b[0m\n\u001b[1;32m---> 27\u001b[1;33m                 \u001b[0mz\u001b[0m\u001b[1;33m[\u001b[0m\u001b[0mi\u001b[0m\u001b[1;33m,\u001b[0m\u001b[0mj\u001b[0m\u001b[1;33m]\u001b[0m \u001b[1;33m=\u001b[0m \u001b[0mnp\u001b[0m\u001b[1;33m.\u001b[0m\u001b[0msum\u001b[0m\u001b[1;33m(\u001b[0m\u001b[0mmapFeature\u001b[0m\u001b[1;33m(\u001b[0m\u001b[0mu\u001b[0m\u001b[1;33m[\u001b[0m\u001b[0mi\u001b[0m\u001b[1;33m]\u001b[0m\u001b[1;33m,\u001b[0m\u001b[0mv\u001b[0m\u001b[1;33m[\u001b[0m\u001b[0mj\u001b[0m\u001b[1;33m]\u001b[0m\u001b[1;33m)\u001b[0m \u001b[1;33m*\u001b[0m \u001b[0mtheta\u001b[0m\u001b[1;33m)\u001b[0m\u001b[1;33m\u001b[0m\u001b[1;33m\u001b[0m\u001b[0m\n\u001b[0m\u001b[0;32m     28\u001b[0m         \u001b[0mz\u001b[0m \u001b[1;33m=\u001b[0m \u001b[0mz\u001b[0m\u001b[1;33m.\u001b[0m\u001b[0mT\u001b[0m\u001b[1;33m\u001b[0m\u001b[1;33m\u001b[0m\u001b[0m\n\u001b[0;32m     29\u001b[0m         \u001b[0mplt\u001b[0m\u001b[1;33m.\u001b[0m\u001b[0mcontour\u001b[0m\u001b[1;33m(\u001b[0m\u001b[0mu\u001b[0m\u001b[1;33m,\u001b[0m\u001b[0mv\u001b[0m\u001b[1;33m,\u001b[0m\u001b[0mz\u001b[0m\u001b[1;33m)\u001b[0m\u001b[1;33m\u001b[0m\u001b[1;33m\u001b[0m\u001b[0m\n",
      "\u001b[1;31mValueError\u001b[0m: operands could not be broadcast together with shapes (28,) (3,) "
     ]
    },
    {
     "data": {
      "image/png": "[encoded data removed]",
      "text/plain": [
       "<Figure size 432x288 with 1 Axes>"
      ]
     },
     "metadata": {
      "needs_background": "light"
     },
     "output_type": "display_data"
    }
   ],
   "source": [
    "plotDecisionBoundary(theta, X_, y)"
   ]
  },
  {
   "cell_type": "markdown",
   "metadata": {},
   "source": [
    "#### 1.2.4 Evaluationg logistic regression\n",
    "파라미터 학습 후에, 너는 모델을 학생이 승인될지 아닐지 예측하는 데 쓸 수 있다. 어떤 학생이 exam1에서 45점을 맞고 exam2에서 85점을 맞았다면, 너는 그의 승인 가능성을 0.776으로 예측할 수 있다.\n",
    "\n",
    "파라미터를 평가하기 위한 또 다른 방법은 모델이 트레이닝 셋에 있어 얼마나 예측을 잘 하는지 보는 것이다.\n",
    "\n",
    "이 부분에서, 너의 일은 `predict.m` 코드를 완성하는 것이다."
   ]
  },
  {
   "cell_type": "code",
   "execution_count": 140,
   "metadata": {},
   "outputs": [],
   "source": [
    "def predict(theta, X):\n",
    "    m = X.shape[0] #training example\n",
    "    print(m)\n",
    "    \n",
    "    p = np.zeros(m)\n",
    "    p = sigmoid(X.dot(theta)) >= 0.5\n",
    "    \n",
    "    return p"
   ]
  },
  {
   "cell_type": "code",
   "execution_count": 144,
   "metadata": {},
   "outputs": [
    {
     "name": "stdout",
     "output_type": "stream",
     "text": [
      "prediction:  0.7762906215301875\n",
      "100\n",
      "accuracy: 89.000000\n"
     ]
    }
   ],
   "source": [
    "#exam1점수 45점, exam2 점수 85점\n",
    "prob = sigmoid(np.sum(np.array([45,85,1])*theta))\n",
    "print(\"prediction: \", prob)\n",
    "\n",
    "p = predict(theta, X_)\n",
    "print(\"accuracy: {:f}\".format(np.mean((p==y)*100)))"
   ]
  },
  {
   "cell_type": "markdown",
   "metadata": {},
   "source": [
    "## 2. Regularized logistic regression"
   ]
  },
  {
   "cell_type": "markdown",
   "metadata": {},
   "source": [
    "### 2.1 Visualizing the data"
   ]
  },
  {
   "cell_type": "code",
   "execution_count": 148,
   "metadata": {},
   "outputs": [
    {
     "data": {
      "text/plain": [
       "Text(0, 0.5, 'Microchip test2')"
      ]
     },
     "execution_count": 148,
     "metadata": {},
     "output_type": "execute_result"
    },
    {
     "data": {
      "image/png": "[encoded data removed]",
      "text/plain": [
       "<Figure size 432x288 with 1 Axes>"
      ]
     },
     "metadata": {
      "needs_background": "light"
     },
     "output_type": "display_data"
    }
   ],
   "source": [
    "data_2 = np.loadtxt('ex2data2.txt', delimiter=',')\n",
    "X_2 = data_2[:, 0:2]\n",
    "y_2 = data_2[:,2]\n",
    "\n",
    "plotData(X_2, y_2)\n",
    "\n",
    "plt.xlabel('Microchip test1')\n",
    "plt.ylabel('Microchip test2')"
   ]
  },
  {
   "cell_type": "markdown",
   "metadata": {},
   "source": [
    "### 2.2 Feature mapping\n",
    "* 데이터는 28차원 벡터로 변환된다.\n",
    "* overfitting에 민감해진다.\n",
    "* decision boundary를 그리기 위해 위해서 구현"
   ]
  },
  {
   "cell_type": "markdown",
   "metadata": {},
   "source": [
    "### 2.3 Cost function and gradient\n"
   ]
  },
  {
   "cell_type": "code",
   "execution_count": 157,
   "metadata": {},
   "outputs": [],
   "source": [
    "def costFunctionReg(theta, X, y, lambda_):\n",
    "    m, n = X.shape\n",
    "    J=0\n",
    "    grad = np.zeros(np.size(theta))\n",
    "    \n",
    "    sum_theta_square = np.sum(theta[:2]**2)\n",
    "    \n",
    "    X_theta = X.dot(theta)\n",
    "    hypo = sigmoid(X_theta)\n",
    "    \n",
    "    J = 1/m * np.sum(-y * np.log(hypo) - (1 - y) * np.log(1 - hypo)) + lambda_ / (2 * m) * sum_theta_square\n",
    "    \n",
    "    delta = 1/m * (hypo - y).T.dot(X)\n",
    "    \n",
    "    temp = theta\n",
    "    temp[0] = 0\n",
    "    regular = (lambda_ / m) * temp\n",
    "    grad = delta+regular\n",
    "    \n",
    "    return J, grad"
   ]
  },
  {
   "cell_type": "code",
   "execution_count": 158,
   "metadata": {},
   "outputs": [
    {
     "name": "stdout",
     "output_type": "stream",
     "text": [
      "cost:  0.6931471805599454\n"
     ]
    }
   ],
   "source": [
    "X_reg = mapFeature(X_2[:,0], X_2[:,1])\n",
    "initial_theta = np.zeros(X_reg.shape[1])\n",
    "lambda_ = 1\n",
    "costReg, gradReg = costFunctionReg(initial_theta, X_reg, y_2, lambda_)\n",
    "print('cost: ', costReg)"
   ]
  },
  {
   "cell_type": "code",
   "execution_count": 168,
   "metadata": {},
   "outputs": [
    {
     "name": "stdout",
     "output_type": "stream",
     "text": [
      "cost:  0.2816210244584418\n",
      "theta:  [  2.49704946  -1.55719142   2.28740219  -6.23103834  -8.49733204\n",
      "   8.66146301   6.12468213  19.82809149  30.90720312   2.49987045\n",
      "  23.6266917    1.82034452 -20.96940271  -5.31402605 -38.50358798\n",
      "   6.1691288   -6.39469692   3.5392413  -15.64354039 -25.43240553\n",
      "  16.50068057 -54.72439351 -28.764054    -6.55959057  24.32479366\n",
      " -47.25117324 -32.69698864   0.55685308]\n",
      "\n",
      "\n",
      "cost:  0.47065301595504705\n",
      "theta:  [ 1.2706303   0.61835686  1.18554205 -2.01475531 -0.90241705 -1.42902931\n",
      "  0.1307864  -0.37330384 -0.37093247 -0.16449341 -1.46279129 -0.05738351\n",
      " -0.62372041 -0.27298634 -1.20140885 -0.23788753 -0.21293013 -0.05285055\n",
      " -0.27849728 -0.30235864 -0.46073064 -1.05001353  0.02187087 -0.29693764\n",
      "  0.01134374 -0.33133197 -0.14518633 -0.94195211]\n",
      "\n",
      "\n",
      "cost:  0.6205195505522866\n",
      "theta:  [ 3.19220001e-01  1.39244465e-02  1.66298577e-01 -4.46975028e-01\n",
      " -1.09280280e-01 -2.78636591e-01 -6.12844367e-02 -5.97780805e-02\n",
      " -6.11850048e-02 -1.09129238e-01 -3.37999639e-01 -1.16770801e-02\n",
      " -1.18086823e-01 -2.62609531e-02 -2.90225203e-01 -1.11096856e-01\n",
      " -3.80028689e-02 -2.10486332e-02 -5.00682198e-02 -3.99871622e-02\n",
      " -1.91174534e-01 -2.54155856e-01 -2.25011315e-03 -5.86332936e-02\n",
      "  1.05340354e-04 -6.46311133e-02 -1.07791260e-02 -2.76901918e-01]\n",
      "\n",
      "\n",
      "cost:  0.680482996707235\n",
      "theta:  [ 0.01965674 -0.01665108  0.00700629 -0.05579756 -0.01390577 -0.03852417\n",
      " -0.01816144 -0.00798134 -0.00906358 -0.02298132 -0.04431617 -0.00245309\n",
      " -0.01450492 -0.00368852 -0.04227191 -0.02108407 -0.0048866  -0.00361321\n",
      " -0.00654099 -0.005165   -0.03266815 -0.03488495 -0.00109028 -0.00722594\n",
      " -0.00039283 -0.00822373 -0.00162081 -0.04212424]\n",
      "\n",
      "\n"
     ]
    }
   ],
   "source": [
    "# lambda값이 달라질 때 regulazation이 decision boundary에 어떤 영향을 미치는지 테스트\n",
    "# lambda를 0,1,10,100으로 시도한다.\n",
    "for i in range(0,4):\n",
    "    if i==0:\n",
    "        lambda_ =0\n",
    "    elif i==1:\n",
    "        lambda_=1\n",
    "    elif i==2:\n",
    "        lambda_=10\n",
    "    else:\n",
    "        lambda_=100\n",
    "    cost_fmin = lambda t: costFunctionReg(t, X_reg, y_2, lambda_)[0]\n",
    "    grad_fmin = lambda t: costFunctionReg(t, X_reg, y_2, lambda_)[1]\n",
    "\n",
    "    result = minimize(cost_fmin, initial_theta, method='CG', jac=grad_fmin, options={'maxiter': 400})\n",
    "\n",
    "    cost_reg = result.fun\n",
    "    theta_reg = result.x\n",
    "\n",
    "    print(\"cost: \", cost_reg)\n",
    "    print(\"theta: \", theta_reg)\n",
    "    print('\\n')"
   ]
  },
  {
   "cell_type": "code",
   "execution_count": null,
   "metadata": {},
   "outputs": [],
   "source": []
  }
 ],
 "metadata": {
  "kernelspec": {
   "display_name": "Python 3",
   "language": "python",
   "name": "python3"
  },
  "language_info": {
   "codemirror_mode": {
    "name": "ipython",
    "version": 3
   },
   "file_extension": ".py",
   "mimetype": "text/x-python",
   "name": "python",
   "nbconvert_exporter": "python",
   "pygments_lexer": "ipython3",
   "version": "3.7.6"
  }
 },
 "nbformat": 4,
 "nbformat_minor": 4
}
