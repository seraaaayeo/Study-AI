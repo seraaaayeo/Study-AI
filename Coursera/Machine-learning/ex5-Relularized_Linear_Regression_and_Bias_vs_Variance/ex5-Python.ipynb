{
 "cells": [
  {
   "cell_type": "markdown",
   "metadata": {},
   "source": [
    "# Coursera Machine Learning by Andrew Ng\n",
    "## Programming Assignment6: Regularized Linear Regression and Bias v.s. Variance\n",
    "본 과제는 매트랩으로 진행되는 과제이나, 매트랩에 익숙하지 않은 관계로 파이썬으로 구현하였다.\n",
    "\n",
    "과제 설명 파일에 제시된 부분을 구현하였다. 과제 설명과 매트랩 파일의 힌트를 참고하였다. 이번 주차는 매트랩 파일에 작성된 코드의 난이도가 저번보다 다소 높아져서 약간 귀찮았다. 앞으로는 매트랩으로 짜는게 빠를수도 있겠다는 생각이 든다...\n",
    "\n",
    "**보고서 대신 코드와 설명, 주석을 함께 작성한 해당 파일을 첨부드립니다.**"
   ]
  },
  {
   "cell_type": "markdown",
   "metadata": {},
   "source": [
    "## Introduction\n",
    "* regularized linear regression 구현\n",
    "* 다른 bias-variance 특성을 갖는 모델 공부\n",
    "\n",
    "### Files included\n",
    "* ex5data1.mat - 데이터셋.\n",
    "* 구현해야 할 것\n",
    "    * linearRegCostFunction.m : regularized 선형 회귀의 비용 함수\n",
    "    * learningCurve.m : 러닝 커브 만들기\n",
    "    * polyFeatures.m : polynomial feature space의 Maps data\n",
    "    * validationCurve.m : cross-validation curve"
   ]
  },
  {
   "cell_type": "code",
   "execution_count": 2,
   "metadata": {},
   "outputs": [
    {
     "name": "stdout",
     "output_type": "stream",
     "text": [
      "Populating the interactive namespace from numpy and matplotlib\n"
     ]
    }
   ],
   "source": [
    "import numpy as np\n",
    "import matplotlib.pyplot as plt\n",
    "from scipy import io\n",
    "%matplotlib inline\n",
    "%pylab inline"
   ]
  },
  {
   "cell_type": "markdown",
   "metadata": {},
   "source": [
    "## 1. Regularized Liner Regression\n",
    "댐 물 수위를 조정해서 댐에서 방출되는 물의 양을 예측\n",
    "\n",
    "* regularized linear regression 구현\n",
    "* learning algorithm을 디버깅하여 bias vs variance의 효과 검토\n",
    "\n",
    "### 1.1 Visualiaing the dataset\n",
    "데이터셋 구조\n",
    "\n",
    "* training set X, y\n",
    "* cross validation set Xval, yval (regularized params 결정)\n",
    "* test set Xtest, ytest"
   ]
  },
  {
   "cell_type": "code",
   "execution_count": 3,
   "metadata": {},
   "outputs": [
    {
     "name": "stdout",
     "output_type": "stream",
     "text": [
      "Loding and Visualizing Data\n",
      "(12, 1) (12, 1)\n"
     ]
    }
   ],
   "source": [
    "# Part 1 : Loading and Visualizing Data\n",
    "print('Loding and Visualizing Data')\n",
    "\n",
    "mat_data = io.loadmat('ex5data1.mat')\n",
    "\n",
    "X = mat_data['X']\n",
    "y = mat_data['y']\n",
    "print(X.shape, y.shape)"
   ]
  },
  {
   "cell_type": "code",
   "execution_count": 4,
   "metadata": {},
   "outputs": [
    {
     "name": "stdout",
     "output_type": "stream",
     "text": [
      "(12,)\n"
     ]
    }
   ],
   "source": [
    "y = y.ravel() # (12, 1)의 2차원 배열을 (12, )의 1차원 배열로 변환\n",
    "print(y.shape)"
   ]
  },
  {
   "cell_type": "code",
   "execution_count": 5,
   "metadata": {},
   "outputs": [
    {
     "name": "stdout",
     "output_type": "stream",
     "text": [
      "(21, 1) (21,)\n"
     ]
    }
   ],
   "source": [
    "Xval = mat_data['Xval']\n",
    "yval = mat_data['yval'].ravel()\n",
    "print(Xval.shape, yval.shape)"
   ]
  },
  {
   "cell_type": "code",
   "execution_count": 6,
   "metadata": {},
   "outputs": [
    {
     "name": "stdout",
     "output_type": "stream",
     "text": [
      "(21, 1) (21,)\n"
     ]
    }
   ],
   "source": [
    "Xtest = mat_data['Xtest']\n",
    "ytest = mat_data['ytest'].ravel()\n",
    "print(Xtest.shape, ytest.shape)"
   ]
  },
  {
   "cell_type": "code",
   "execution_count": 7,
   "metadata": {},
   "outputs": [
    {
     "data": {
      "text/plain": [
       "Text(0, 0.5, 'Water flowing out of the damn (y)')"
      ]
     },
     "execution_count": 7,
     "metadata": {},
     "output_type": "execute_result"
    },
    {
     "data": {
      "image/png": "[encoded data removed]",
      "text/plain": [
       "<Figure size 432x288 with 1 Axes>"
      ]
     },
     "metadata": {
      "needs_background": "light"
     },
     "output_type": "display_data"
    }
   ],
   "source": [
    "m = X.shape[0]\n",
    "\n",
    "plt.scatter(X, y, c='red', marker='x', s=50)\n",
    "plt.xlabel('Change in water level (x)')\n",
    "plt.ylabel('Water flowing out of the damn (y)')"
   ]
  },
  {
   "cell_type": "markdown",
   "metadata": {},
   "source": [
    "### 1.2 Regulized linear regression\n",
    "[수식 이미지 넣기]\n",
    "\n",
    "* lambda : regularization parameter\n",
    "* regularization은 전체 cost J에 penalty를 부여한다. 모델 파라미터 Theta(j) 값이 커질수록 패널티가 증가한다.\n",
    "* Theta(0)는 regularize하면 안된다.\n",
    "* 코드를 vectorize해라.\n",
    "* [1,1]로 초기화된 theta를 사용해서 cost 함수를 실행하면 **출력이 303.993이 나와야 한다.**"
   ]
  },
  {
   "cell_type": "code",
   "execution_count": 12,
   "metadata": {},
   "outputs": [
    {
     "name": "stdout",
     "output_type": "stream",
     "text": [
      "Cost at theta [1;1] : 303.9931922202643\n"
     ]
    }
   ],
   "source": [
    "# Part 2 : Regualarized Linear Regression Cost\n",
    "\n",
    "def linearRegCostFunction(X, y, theta, lambda_):\n",
    "    m = X.shape[0]\n",
    "    \n",
    "    J = 0\n",
    "    grad = np.zeros(np.size(theta))\n",
    "    \n",
    "    pred = X.dot(theta)\n",
    "    \n",
    "    J = 1 / (2*m) * np.sum((pred-y)**2)\n",
    "    \n",
    "    # regularization term\n",
    "    sum_theta_sqr = np.sum(np.sum(theta[1:] ** 2))\n",
    "    reg = lambda_ / (2*m) * sum_theta_sqr\n",
    "    \n",
    "    J = J+reg\n",
    "    \n",
    "    delta_zero = 1/m * (pred-y).dot(X[:,0]) #X의 첫번째 bias에 대해서 계산\n",
    "    delta = 1/m * (pred-y).dot(X[:,1])\n",
    "    regular = lambda_/m * theta[1:]\n",
    "    delta_j = delta.T + regular\n",
    "    \n",
    "    grad = np.append(delta_zero, delta_j)\n",
    "    \n",
    "    return J, grad\n",
    "    \n",
    "theta = np.array([1,1])\n",
    "X_temp = np.column_stack((np.ones(m), X))\n",
    "J, grad = linearRegCostFunction(X_temp, y, theta, 1)\n",
    "\n",
    "print(f'Cost at theta [1;1] : {J}')"
   ]
  },
  {
   "cell_type": "markdown",
   "metadata": {},
   "source": [
    "### 1.3 Regularized linear regression gradient\n",
    "\n",
    "* linearRegCostFunction에서 gradient를 계산하는 코드 추가 및 grad에 넣어 반환\n",
    "* [1;1]로 초기화된 theta를 사용해서 gradient 함수를 실행하면 gradient는 **[-15.30; 598.250]이어야 한다.**"
   ]
  },
  {
   "cell_type": "code",
   "execution_count": 13,
   "metadata": {},
   "outputs": [
    {
     "name": "stdout",
     "output_type": "stream",
     "text": [
      "Gradient at theta [1;1] : -15.303015674201184 598.2507441727035\n"
     ]
    }
   ],
   "source": [
    "print(f'Gradient at theta [1;1] : {grad[0]} {grad[1]}')"
   ]
  },
  {
   "cell_type": "markdown",
   "metadata": {},
   "source": [
    "### 1.4 Fitting linear regression\n",
    "* cost와 gradient 가 올바르게 작동하면, trainLinearReg.m을 실행해서 theta으 ㅣ최적값을 계산.\n",
    "    * train 함수는 cost 함수를 최적화하기 위해 fmincg를 사용.\n",
    "* 우리는 regularization parameter lambda를 0으로 설정.\n",
    "    * 2차원 theta를 fit. \n",
    "    * regularization은 낮은 차원의 theta에 크게 도움이 되지는 않는다.\n",
    "    * 따라서 polynomial 다항식 regression을 사용할 것임.\n",
    "* `ex5.m` 스크립트는 best fit line을 그리는데, Figure 2와 같다.(선형 line)\n",
    "    * 이 best fit line은 모델이 데이터에 적합하지 않다는 것을 말해준다.\n",
    "    * 데이터가 non-linear pattern이기 때문.\n",
    "* best fit을 visualization하는 것은 learning algorithm을 debug하는 한 가지 방법이다.\n",
    "    * 그러나 데이터와 모델을 가시화 하는 것이 항상 쉬운 것은 아님.\n",
    "    * 이따가 learning curve를 생성하는 함수를 구현한다. 이는 visulazation이 어려워도 learning algorithm을 debug하는 데 도움을 준다."
   ]
  },
  {
   "cell_type": "code",
   "execution_count": 14,
   "metadata": {},
   "outputs": [],
   "source": [
    "# Part 4 : Train linear regression\n",
    "# Note : Data가 non-linear하기 때문에 훌륭하게 fit 되지 않음.\n",
    "\n",
    "# 우선 fminunc 대신 minimize 기능을 제공하는 scipy 라이브러리를 임포트함.\n",
    "from scipy.optimize import minimize"
   ]
  },
  {
   "cell_type": "code",
   "execution_count": 19,
   "metadata": {},
   "outputs": [
    {
     "name": "stdout",
     "output_type": "stream",
     "text": [
      "[13.0878989   0.36777919]\n"
     ]
    }
   ],
   "source": [
    "def trainLinearReg(X, y, lambda_, method='CG', maxiter=200):\n",
    "    init_theta = np.zeros(X.shape[1])\n",
    "    \n",
    "    costFunc = lambda t: linearRegCostFunction(X, y, t, lambda_)[0]\n",
    "    gradFunc = lambda t: linearRegCostFunction(X, y, t, lambda_)[1]\n",
    "    \n",
    "    res = minimize(fun=costFunc, x0=init_theta, method=method, jac=None, options={'disp': False, 'maxiter': maxiter})\n",
    "    \n",
    "    theta = res.x\n",
    "    \n",
    "    return theta\n",
    "\n",
    "lambda_ = 0\n",
    "theta = trainLinearReg(X_temp, y, lambda_)\n",
    "print(theta)"
   ]
  },
  {
   "cell_type": "code",
   "execution_count": 20,
   "metadata": {},
   "outputs": [
    {
     "data": {
      "image/png": "[encoded data removed]",
      "text/plain": [
       "<Figure size 432x288 with 1 Axes>"
      ]
     },
     "metadata": {
      "needs_background": "light"
     },
     "output_type": "display_data"
    }
   ],
   "source": [
    "plt.scatter(X, y, c='red', marker='x', s=50)\n",
    "plot(X, X_temp.dot(theta), '-')\n",
    "plt.show()"
   ]
  },
  {
   "cell_type": "markdown",
   "metadata": {},
   "source": [
    "## 2. Bias-variance\n",
    "bias-variance 문제를 진단하기 위해 learning curve 상에서 train-test error 그림.\n",
    "\n",
    "### 2.1 Learning curves\n",
    "* learningCurve.m이 train set과 cross validation set의 error vector를 반환하게 구현.\n",
    "* training error는 regularization term을 포함하지 않는다.\n",
    "    * cost 함수를 사용하고 lambda를 0으로 설정.\n",
    "* Figure 3에서 training example이 증가함에 따라 train error, cross validation error 모두 높아짐.\n",
    "    * 모델이 high-bias하다."
   ]
  },
  {
   "cell_type": "code",
   "execution_count": 22,
   "metadata": {},
   "outputs": [],
   "source": [
    "# Part 5 : Learning curve for Linear regression\n",
    "def learningCurve(X, y, Xval, yval, lambda_):\n",
    "    m = X.shape[0]\n",
    "    \n",
    "    # 변수 초기화\n",
    "    train_err = np.zeros(m)\n",
    "    val_err = np.zeros(m)\n",
    "    \n",
    "    # X에 bias 컴럼 추가\n",
    "    for i in np.arange(m):\n",
    "        X_train = X[0:i + 1, :]\n",
    "        y_train = y[0:i + 1]\n",
    "        \n",
    "        theta = trainLinearReg(X_train, y_train, lambda_)\n",
    "        \n",
    "        J = linearRegCostFunction(X_train, y_train, theta, 0)[0]\n",
    "        train_err[i] = J\n",
    "        \n",
    "        J = linearRegCostFunction(Xval, yval, theta, 0)[0]\n",
    "        val_err[i] = J\n",
    "    \n",
    "    return train_err, val_err\n"
   ]
  },
  {
   "cell_type": "code",
   "execution_count": 28,
   "metadata": {},
   "outputs": [
    {
     "name": "stdout",
     "output_type": "stream",
     "text": [
      "Train Examples\tTrain Error\tCross Validation Error\n",
      "0\t\t0.000000\t\t205.121097\n",
      "1\t\t0.000000\t\t110.300407\n",
      "2\t\t3.286595\t\t45.010229\n",
      "3\t\t2.842678\t\t48.368911\n",
      "4\t\t13.154049\t\t35.865163\n",
      "5\t\t19.443963\t\t33.829961\n",
      "6\t\t20.098522\t\t31.970987\n",
      "7\t\t18.172859\t\t30.862446\n",
      "8\t\t22.609405\t\t31.135998\n",
      "9\t\t23.261462\t\t28.936207\n",
      "10\t\t24.317250\t\t29.551431\n",
      "11\t\t22.373906\t\t29.433824\n"
     ]
    }
   ],
   "source": [
    "lambda_ = 0\n",
    "\n",
    "Xval_temp = np.column_stack((np.ones((Xval.shape[0])), Xval))\n",
    "train_err, val_err = learningCurve(X_temp, y, Xval_temp, yval, lambda_)\n",
    "\n",
    "print('Train Examples\\tTrain Error\\tCross Validation Error')\n",
    "for i in np.arange(m):\n",
    "    print('%d\\t\\t%f\\t\\t%f' % (i, train_err[i], val_err[i]))"
   ]
  },
  {
   "cell_type": "code",
   "execution_count": 31,
   "metadata": {},
   "outputs": [
    {
     "data": {
      "text/plain": [
       "Text(0, 0.5, 'Err')"
      ]
     },
     "execution_count": 31,
     "metadata": {},
     "output_type": "execute_result"
    },
    {
     "data": {
      "image/png": "[encoded data removed]",
      "text/plain": [
       "<Figure size 432x288 with 1 Axes>"
      ]
     },
     "metadata": {
      "needs_background": "light"
     },
     "output_type": "display_data"
    }
   ],
   "source": [
    "plot(np.arange(m), train_err, np.arange(m), val_err)\n",
    "plt.legend(('Train', 'Cross Validation'))\n",
    "plt.xlabel('# of Train example')\n",
    "plt.ylabel('Err')"
   ]
  },
  {
   "cell_type": "markdown",
   "metadata": {},
   "source": [
    "## 3. Polynomial regression"
   ]
  },
  {
   "cell_type": "code",
   "execution_count": 32,
   "metadata": {},
   "outputs": [],
   "source": [
    "# Part 6 : Feature Mapping for polynomial regression\n",
    "\n",
    "def featureNormalize(X):\n",
    "    mu = np.mean(X, 0)\n",
    "    sigma = np.std(X, axis=0, ddof=1)\n",
    "    \n",
    "    X_norm = (X-mu) / sigma\n",
    "    \n",
    "    return X_norm, mu, sigma"
   ]
  },
  {
   "cell_type": "code",
   "execution_count": 33,
   "metadata": {},
   "outputs": [],
   "source": [
    "def polyFeatures(X, p):\n",
    "    X_poly = np.zeros((np.size(X), p))\n",
    "    \n",
    "    for i in np.arange(p):\n",
    "        X_poly[:, i] = X[:, 0]**(i+1)\n",
    "        \n",
    "    return X_poly"
   ]
  },
  {
   "cell_type": "code",
   "execution_count": 36,
   "metadata": {},
   "outputs": [
    {
     "name": "stdout",
     "output_type": "stream",
     "text": [
      "Test : Normalized Training Example 1\n",
      "[ 1.         -0.36214078 -0.75508669  0.18222588 -0.70618991  0.30661792\n",
      " -0.59087767  0.3445158  -0.50848117]\n",
      "\n",
      "[ 1.          0.92937531 -0.41980793  0.51096837 -0.58862381  0.38261573\n",
      " -0.55903     0.36183236 -0.5006648 ]\n"
     ]
    }
   ],
   "source": [
    "p=8\n",
    "\n",
    "X_poly = polyFeatures(X, p)\n",
    "X_poly, mu, sigma = featureNormalize(X_poly)\n",
    "X_poly = np.column_stack((np.ones(m), X_poly))\n",
    "\n",
    "X_poly_test = polyFeatures(Xtest, p)\n",
    "X_poly_test = (X_poly_test - mu) / sigma\n",
    "X_poly_test = np.column_stack((np.ones(X_poly_test.shape[0]), X_poly_test))\n",
    "\n",
    "X_poly_val = polyFeatures(Xval, p)\n",
    "X_poly_val = (X_poly_val - mu) / sigma\n",
    "X_poly_val = np.column_stack((np.ones(X_poly_val.shape[0]), X_poly_val))\n",
    "\n",
    "print('Test : Normalized Training Example 1')\n",
    "print('%s' % X_poly[0, :])\n",
    "print()\n",
    "print('%s' % X_poly[m-1, :])"
   ]
  },
  {
   "cell_type": "markdown",
   "metadata": {},
   "source": [
    "### 3.1 Learning Polynomial Regression\n",
    "\n",
    "### 3.2 Optional exercise : Adjusting the regularization parameter"
   ]
  },
  {
   "cell_type": "code",
   "execution_count": null,
   "metadata": {},
   "outputs": [],
   "source": []
  }
 ],
 "metadata": {
  "kernelspec": {
   "display_name": "Python 3",
   "language": "python",
   "name": "python3"
  },
  "language_info": {
   "codemirror_mode": {
    "name": "ipython",
    "version": 3
   },
   "file_extension": ".py",
   "mimetype": "text/x-python",
   "name": "python",
   "nbconvert_exporter": "python",
   "pygments_lexer": "ipython3",
   "version": "3.7.6"
  }
 },
 "nbformat": 4,
 "nbformat_minor": 4
}
