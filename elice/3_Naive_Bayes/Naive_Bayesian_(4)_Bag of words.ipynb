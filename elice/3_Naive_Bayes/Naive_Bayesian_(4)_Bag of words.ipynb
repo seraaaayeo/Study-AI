{
 "cells": [
  {
   "cell_type": "code",
   "execution_count": null,
   "metadata": {},
   "outputs": [],
   "source": [
    "'''\n",
    "@function\n",
    "나이브 베이즈 감정 분류기 생성을 위한 텍스트 데이터 전처리 - Bag of words 생성\n",
    "\n",
    "@description\n",
    "1.단어는 공백으로 나누어지며 모두 소문자로 치환된다.\n",
    "2.특수문자는 정규식표현(re)를 이용하여 제거한다.\n",
    "3.단어는 한 글자 이상이므로 단어의 길이를 체크한다.\n",
    "'''"
   ]
  },
  {
   "cell_type": "code",
   "execution_count": 2,
   "metadata": {},
   "outputs": [
    {
     "name": "stdout",
     "output_type": "stream",
     "text": [
      "BoW 테스트. BoW는 Bag of Word이다. 오늘은 눈이 많이 부었다. 눈이 아프다.\n",
      "['bow', '테스트', 'bow는', 'bag', 'of', 'word이다', '오늘은', '눈이', '많이', '부었다', '눈이', '아프다']\n",
      "['bow', '테스트', 'bow는', 'bag', 'of', 'word이다', '오늘은', '눈이', '많이', '부었다', '눈이', '아프다']\n",
      "{'bow': 1, '테스트': 1, 'bow는': 1, 'bag': 1, 'of': 1, 'word이다': 1, '오늘은': 1, '눈이': 2, '많이': 1, '부었다': 1, '아프다': 1}\n"
     ]
    }
   ],
   "source": [
    "import re #정규식표현\n",
    "\n",
    "special_chars_remover = re.compile(\"[^\\w'|_]\")\n",
    "\n",
    "def main():\n",
    "    sentence = input()\n",
    "    bow = create_BOW(sentence)\n",
    "\n",
    "    print(bow)\n",
    "\n",
    "\n",
    "def create_BOW(sentence):\n",
    "    bow = {}\n",
    "    low_sentence = sentence.lower()\n",
    "    remove_special = remove_special_characters(low_sentence)\n",
    "    words = remove_special.split()\n",
    "    print(words)\n",
    "    \n",
    "    words = [word for word in words if len(word)>=1]\n",
    "    print(words)\n",
    "    \n",
    "    for word in words:\n",
    "        if word not in bow:\n",
    "            bow[word] = 1\n",
    "        else:\n",
    "            bow[word]+=1\n",
    "    \n",
    "    return bow\n",
    "\n",
    "\n",
    "def remove_special_characters(sentence):\n",
    "    return special_chars_remover.sub(' ', sentence)\n",
    "\n",
    "\n",
    "if __name__ == \"__main__\":\n",
    "    main()\n"
   ]
  }
 ],
 "metadata": {
  "kernelspec": {
   "display_name": "Python 3",
   "language": "python",
   "name": "python3"
  },
  "language_info": {
   "codemirror_mode": {
    "name": "ipython",
    "version": 3
   },
   "file_extension": ".py",
   "mimetype": "text/x-python",
   "name": "python",
   "nbconvert_exporter": "python",
   "pygments_lexer": "ipython3",
   "version": "3.7.6"
  }
 },
 "nbformat": 4,
 "nbformat_minor": 4
}
