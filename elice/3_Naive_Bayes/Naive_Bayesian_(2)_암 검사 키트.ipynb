{
 "cells": [
  {
   "cell_type": "code",
   "execution_count": 1,
   "metadata": {},
   "outputs": [
    {
     "data": {
      "text/plain": [
       "'\\n@function\\n40대 여성이 X-ray(mammogram()) 검사를 통해 유방암 양성 의심 판정을 받았을 때 실제 유방암일 확률\\n\\n@param\\nsensitivity: 검사의 민감성. 유방암 보유자를 대상으로 검사 결과가 양성일 확률.\\nprior_prob: 총 인구를 기준으로 유방암을 가지고 있을 사전 확률.\\nfalse_alarm: 실제로는 암이 아니지만 유방암이라고 진단될 확률.\\n\\n@주어진 값\\nsensitivity = 0.8\\nprior_prob = 0.004\\nfalse_alarm = 0.1\\n'"
      ]
     },
     "execution_count": 1,
     "metadata": {},
     "output_type": "execute_result"
    }
   ],
   "source": [
    "'''\n",
    "@function\n",
    "40대 여성이 X-ray(mammogram()) 검사를 통해 유방암 양성 의심 판정을 받았을 때 실제 유방암일 확률\n",
    "\n",
    "@param\n",
    "sensitivity: 검사의 민감성. 유방암 보유자를 대상으로 검사 결과가 양성일 확률.\n",
    "prior_prob: 총 인구를 기준으로 유방암을 가지고 있을 사전 확률.\n",
    "false_alarm: 실제로는 암이 아니지만 유방암이라고 진단될 확률.\n",
    "\n",
    "@Test case 주어진 값\n",
    "sensitivity = 0.8\n",
    "prior_prob = 0.004\n",
    "false_alarm = 0.1\n",
    "\n",
    "@계산식\n",
    "README 참고\n",
    "'''"
   ]
  },
  {
   "cell_type": "code",
   "execution_count": 2,
   "metadata": {},
   "outputs": [
    {
     "name": "stdout",
     "output_type": "stream",
     "text": [
      "0.8\n",
      "0.004\n",
      "0.1\n",
      "3.11%\n"
     ]
    }
   ],
   "source": [
    "def main():\n",
    "    sensitivity = float(input())\n",
    "    prior_prob = float(input())\n",
    "    false_alarm = float(input())\n",
    "\n",
    "    print(\"%.2lf%%\" % (100 * mammogram_test(sensitivity, prior_prob, false_alarm)))\n",
    "\n",
    "def mammogram_test(sensitivity, prior_prob, false_alarm):\n",
    "    p_a1_b1 = sensitivity # p(A = 1 | B = 1)\n",
    "\n",
    "    p_b1 = prior_prob    # p(B = 1)\n",
    "\n",
    "    p_b0 = 1 - p_b1    # p(B = 0)\n",
    "\n",
    "    p_a1_b0 = false_alarm # p(A = 1|B = 0)\n",
    "\n",
    "    p_a1 = p_a1_b1 * p_b1 + p_a1_b0 * p_b0    # p(A = 1)\n",
    "\n",
    "    p_b1_a1 = p_a1_b1 * p_b1 / p_a1 # p(B = 1|A = 1)\n",
    "\n",
    "    return p_b1_a1\n",
    "\n",
    "if __name__ == \"__main__\":\n",
    "    main()"
   ]
  }
 ],
 "metadata": {
  "kernelspec": {
   "display_name": "Python 3",
   "language": "python",
   "name": "python3"
  },
  "language_info": {
   "codemirror_mode": {
    "name": "ipython",
    "version": 3
   },
   "file_extension": ".py",
   "mimetype": "text/x-python",
   "name": "python",
   "nbconvert_exporter": "python",
   "pygments_lexer": "ipython3",
   "version": "3.7.6"
  }
 },
 "nbformat": 4,
 "nbformat_minor": 4
}
