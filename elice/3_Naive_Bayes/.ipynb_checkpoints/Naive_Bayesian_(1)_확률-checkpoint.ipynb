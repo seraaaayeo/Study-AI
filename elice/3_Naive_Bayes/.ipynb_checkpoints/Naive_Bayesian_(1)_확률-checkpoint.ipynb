{
 "cells": [
  {
   "cell_type": "code",
   "execution_count": 1,
   "metadata": {},
   "outputs": [
    {
     "name": "stdout",
     "output_type": "stream",
     "text": [
      "Estimated pi = 3.120000\n"
     ]
    }
   ],
   "source": [
    "import matplotlib as mpl\n",
    "mpl.use(\"Agg\")\n",
    "import matplotlib.pyplot as plt\n",
    "import numpy as np\n",
    "\n",
    "def main():\n",
    "    plt.figure(figsize=(5,5))\n",
    "    \n",
    "    X = []\n",
    "    Y = []\n",
    "    \n",
    "    # N을 10배씩 증가할 때 파이 값이 어떻게 변경되는지 확인해보세요.\n",
    "    N = 10000\n",
    "    \n",
    "    for i in range(N):\n",
    "        X.append(np.random.rand() * 2 - 1)\n",
    "        Y.append(np.random.rand() * 2 - 1)\n",
    "    X = np.array(X)\n",
    "    Y = np.array(Y)\n",
    "    distance_from_zero = np.sqrt(X * X + Y * Y)\n",
    "    is_inside_circle = distance_from_zero <= 1\n",
    "    \n",
    "    print(\"Estimated pi = %f\" % (np.average(is_inside_circle) * 4))\n",
    "    \n",
    "    plt.scatter(X, Y, c=is_inside_circle)\n",
    "    plt.savefig('circle.png')\n",
    "\n",
    "if __name__ == \"__main__\":\n",
    "    main()"
   ]
  }
 ],
 "metadata": {
  "kernelspec": {
   "display_name": "Python 3",
   "language": "python",
   "name": "python3"
  },
  "language_info": {
   "codemirror_mode": {
    "name": "ipython",
    "version": 3
   },
   "file_extension": ".py",
   "mimetype": "text/x-python",
   "name": "python",
   "nbconvert_exporter": "python",
   "pygments_lexer": "ipython3",
   "version": "3.7.6"
  }
 },
 "nbformat": 4,
 "nbformat_minor": 4
}
