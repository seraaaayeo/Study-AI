{
 "cells": [
  {
   "cell_type": "code",
   "execution_count": 2,
   "metadata": {},
   "outputs": [
    {
     "name": "stdout",
     "output_type": "stream",
     "text": [
      "Loss: 46.341726\n"
     ]
    }
   ],
   "source": [
    "# 손으로 loss 계산하기\n",
    "\n",
    "import matplotlib as mpl\n",
    "mpl.use(\"Agg\")\n",
    "import matplotlib.pyplot as plt\n",
    "import numpy as np\n",
    "\n",
    "def loss(x, y, beta_0, beta_1):\n",
    "    N = len(x)\n",
    "    \n",
    "    '''\n",
    "    x, y, beta_0, beta_1 을 이용해 loss값을 계산한 뒤 리턴합니다.\n",
    "    '''\n",
    "    total_loss = 0\n",
    "    for i in range(N):\n",
    "        y_i = y[i] #실제 데이터\n",
    "        x_i = x[i]\n",
    "        y_pred = beta_0 * x_i + beta_1 #예측 데이터\n",
    "        \n",
    "        diff = (y_i - y_pred)**2\n",
    "        total_loss += diff\n",
    "        \n",
    "    '''\n",
    "    다른 방법으로 loss 계산하기\n",
    "    '''\n",
    "#     x = np.array(x)\n",
    "#     y = np.array(y)\n",
    "#     total_loss = np.sum((y - (beta_0*x + beta_1)) ** 2)\n",
    "        \n",
    "    return total_loss\n",
    "\n",
    "X = [8.70153760, 3.90825773, 1.89362433, 3.28730045, 7.39333004, 2.98984649, 2.25757240, 9.84450732, 9.94589513, 5.48321616]\n",
    "Y = [5.64413093, 3.75876583, 3.87233310, 4.40990425, 6.43845020, 4.02827829, 2.26105955, 7.15768995, 6.29097441, 5.19692852]\n",
    "\n",
    "beta_0 = 1 # 기울기\n",
    "beta_1 = 0.5 # 절편\n",
    "\n",
    "print(\"Loss: %f\" % loss(X, Y, beta_0, beta_1))\n",
    "\n",
    "plt.scatter(X, Y) # (x, y) 점을 그립니다.\n",
    "plt.plot([0, 10], [beta_1, 10 * beta_0 + beta_1], c='r') # y = beta_0 * x + beta_1 에 해당하는 선을 그립니다.\n",
    "\n",
    "plt.xlim(0, 10) # 그래프의 X축을 설정합니다.\n",
    "plt.ylim(0, 10) # 그래프의 Y축을 설정합니다.\n",
    "plt.savefig(\"test.png\") # 저장 후 엘리스에 이미지를 표시합니다."
   ]
  },
  {
   "cell_type": "code",
   "execution_count": 3,
   "metadata": {},
   "outputs": [
    {
     "name": "stdout",
     "output_type": "stream",
     "text": [
      "beta_0: 0.430781\n",
      "beta_1: 2.506181\n",
      "Loss: 3.721640\n"
     ]
    }
   ],
   "source": [
    "# 기계학습 라이브러리 Scickt-learn을 이용한 회귀분석\n",
    "\n",
    "import matplotlib as mpl\n",
    "mpl.use(\"Agg\")\n",
    "import matplotlib.pyplot as plt\n",
    "import numpy as np\n",
    "from sklearn.linear_model import LinearRegression\n",
    "\n",
    "def loss(x, y, beta_0, beta_1):\n",
    "    N = len(x)\n",
    "    \n",
    "    '''\n",
    "    이전 실습에서 구현한 loss function을 여기에 붙여넣습니다.\n",
    "    '''\n",
    "    x = np.array(x)\n",
    "    y = np.array(y)\n",
    "    total_loss = np.sum((y - (beta_0*x + beta_1)) ** 2)\n",
    "    \n",
    "    return total_loss\n",
    "    \n",
    "X = [8.70153760, 3.90825773, 1.89362433, 3.28730045, 7.39333004, 2.98984649, 2.25757240, 9.84450732, 9.94589513, 5.48321616]\n",
    "Y = [5.64413093, 3.75876583, 3.87233310, 4.40990425, 6.43845020, 4.02827829, 2.26105955, 7.15768995, 6.29097441, 5.19692852]\n",
    "\n",
    "'''\n",
    "하나의 속성(feature)에 여러가지 값(sample)을 가지는 경우, reshape(-1, 1)을 적용하여 열벡터로 만들어야 합니다. X는 하나의 종속변수 Y에 대한 여러 값을 가지므로 reshape(-1, 1)을 적용합니다.\n",
    "종속변수 Y는 독립변수 X에 대한 값이므로 reshape(-1, 1)을 할 필요가 없습니다.\n",
    "'''\n",
    "train_X = np.array(X).reshape(-1, 1)\n",
    "train_Y = np.array(Y)\n",
    "\n",
    "'''\n",
    "여기에서 모델을 트레이닝합니다.\n",
    "'''\n",
    "lrmodel = LinearRegression()\n",
    "lrmodel.fit(train_X, train_Y)\n",
    "\n",
    "'''\n",
    "loss가 최소가 되는 직선의 기울기와 절편을 계산함\n",
    "'''\n",
    "beta_0 = lrmodel.coef_[0]   # lrmodel로 구한 직선의 기울기\n",
    "beta_1 = lrmodel.intercept_ # lrmodel로 구한 직선의 y절편\n",
    "\n",
    "print(\"beta_0: %f\" % beta_0)\n",
    "print(\"beta_1: %f\" % beta_1)\n",
    "print(\"Loss: %f\" % loss(X, Y, beta_0, beta_1))\n",
    "\n",
    "plt.scatter(X, Y) # (x, y) 점을 그립니다.\n",
    "plt.plot([0, 10], [beta_1, 10 * beta_0 + beta_1], c='r') # y = beta_0 * x + beta_1 에 해당하는 선을 그립니다.\n",
    "\n",
    "plt.xlim(0, 10) # 그래프의 X축을 설정합니다.\n",
    "plt.ylim(0, 10) # 그래프의 Y축을 설정합니다.\n",
    "plt.savefig(\"test.png\") # 저장 후 엘리스에 이미지를 표시합니다.\n"
   ]
  }
 ],
 "metadata": {
  "kernelspec": {
   "display_name": "Python 3",
   "language": "python",
   "name": "python3"
  },
  "language_info": {
   "codemirror_mode": {
    "name": "ipython",
    "version": 3
   },
   "file_extension": ".py",
   "mimetype": "text/x-python",
   "name": "python",
   "nbconvert_exporter": "python",
   "pygments_lexer": "ipython3",
   "version": "3.7.6"
  }
 },
 "nbformat": 4,
 "nbformat_minor": 4
}
