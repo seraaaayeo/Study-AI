{
  "nbformat": 4,
  "nbformat_minor": 0,
  "metadata": {
    "colab": {
      "name": "Softmax-classificatoin.ipynb",
      "provenance": []
    },
    "kernelspec": {
      "name": "python3",
      "display_name": "Python 3"
    }
  },
  "cells": [
    {
      "cell_type": "code",
      "metadata": {
        "id": "czsp71-RXLAR",
        "colab_type": "code",
        "colab": {}
      },
      "source": [
        "import tensorflow as tf\n",
        "import numpy as np\n",
        "\n",
        "tf.random.set_seed(777)"
      ],
      "execution_count": 15,
      "outputs": []
    },
    {
      "cell_type": "code",
      "metadata": {
        "id": "lZhFNobIXc77",
        "colab_type": "code",
        "colab": {}
      },
      "source": [
        "x_data = [[1, 2, 1, 1],\n",
        "          [2, 1, 3, 2],\n",
        "          [3, 1, 3, 4],\n",
        "          [4, 1, 5, 5],\n",
        "          [1, 7, 5, 5],\n",
        "          [1, 2, 5, 6],\n",
        "          [1, 6, 6, 6],\n",
        "          [1, 7, 7, 7]]\n",
        "y_data = [[0, 0, 1],\n",
        "          [0, 0, 1],\n",
        "          [0, 0, 1],\n",
        "          [0, 1, 0],\n",
        "          [0, 1, 0],\n",
        "          [0, 1, 0],\n",
        "          [1, 0, 0],\n",
        "          [1, 0, 0]]\n",
        "\n",
        "x_data = np.asarray(x_data, dtype=np.float32)\n",
        "y_data = np.asarray(y_data, dtype=np.float32) \n",
        "#np.array와 np.asarray는 기본적으로 비슷한 구조이다. 다만 asarray는 인자가 넘파이배열(ndarray)일 경우 복사하지 않는다.\n",
        "#https://stackoverflow.com/questions/14415741/what-is-the-difference-between-numpys-array-and-asarray-functions"
      ],
      "execution_count": 16,
      "outputs": []
    },
    {
      "cell_type": "code",
      "metadata": {
        "id": "PBqxUHfXY1B9",
        "colab_type": "code",
        "colab": {
          "base_uri": "https://localhost:8080/",
          "height": 53
        },
        "outputId": "92f01f2f-53a8-4824-9bff-64ae4a67ad07"
      },
      "source": [
        "# dataset\n",
        "nb_classes = 3\n",
        "print(x_data.shape)\n",
        "print(y_data.shape)"
      ],
      "execution_count": 17,
      "outputs": [
        {
          "output_type": "stream",
          "text": [
            "(8, 4)\n",
            "(8, 3)\n"
          ],
          "name": "stdout"
        }
      ]
    },
    {
      "cell_type": "code",
      "metadata": {
        "id": "rWDW_J0KZW4a",
        "colab_type": "code",
        "colab": {}
      },
      "source": [
        "W = tf.Variable(tf.random.normal((4, nb_classes)), name='weight')\n",
        "b = tf.Variable(tf.random.normal((nb_classes, )), name='bias')\n",
        "variables = [W, b] #가중치와 바이어스는 업데이트가 가능하도록 변수로 선언."
      ],
      "execution_count": 18,
      "outputs": []
    },
    {
      "cell_type": "code",
      "metadata": {
        "id": "vvCJ_idMZ8bs",
        "colab_type": "code",
        "colab": {
          "base_uri": "https://localhost:8080/",
          "height": 179
        },
        "outputId": "7dd43f29-4002-440d-8a74-0316a582c1eb"
      },
      "source": [
        "# softmax activation\n",
        "def hypothesis(X):\n",
        "  return tf.nn.softmax(tf.matmul(X, W) + b)\n",
        "\n",
        "print(hypothesis(x_data)) # 출력값이 0과 1사이의 값인지 확인한다."
      ],
      "execution_count": 19,
      "outputs": [
        {
          "output_type": "stream",
          "text": [
            "tf.Tensor(\n",
            "[[1.3657196e-02 7.9016238e-03 9.7844124e-01]\n",
            " [3.9259776e-02 1.7034741e-02 9.4370544e-01]\n",
            " [3.8038525e-01 1.6772316e-01 4.5189157e-01]\n",
            " [3.2339048e-01 5.9075940e-02 6.1753362e-01]\n",
            " [3.6299741e-06 6.2072729e-08 9.9999630e-01]\n",
            " [2.6252020e-02 1.0727962e-02 9.6301997e-01]\n",
            " [1.5652511e-05 4.2180278e-07 9.9998391e-01]\n",
            " [2.9407690e-06 3.8113328e-08 9.9999702e-01]], shape=(8, 3), dtype=float32)\n"
          ],
          "name": "stdout"
        }
      ]
    },
    {
      "cell_type": "code",
      "metadata": {
        "id": "IkuBu8W5aUnK",
        "colab_type": "code",
        "colab": {
          "base_uri": "https://localhost:8080/",
          "height": 35
        },
        "outputId": "d5fb1af5-0401-4abc-ac3b-f88e9b7ccd82"
      },
      "source": [
        "# softmax onehot test\n",
        "sample_db = [[8,2,1,4]]\n",
        "sample_db = np.asarray(sample_db, dtype=np.float32)\n",
        "print(hypothesis(sample_db))"
      ],
      "execution_count": 20,
      "outputs": [
        {
          "output_type": "stream",
          "text": [
            "tf.Tensor([[0.9302204  0.06200533 0.00777428]], shape=(1, 3), dtype=float32)\n"
          ],
          "name": "stdout"
        }
      ]
    },
    {
      "cell_type": "code",
      "metadata": {
        "id": "MVQc6n9jbB5J",
        "colab_type": "code",
        "colab": {}
      },
      "source": [
        "def cost_function(X, Y):\n",
        "  logits = hypothesis(X)\n",
        "  cost = -tf.reduce_sum(Y * tf.math.log(logits), axis=1)\n",
        "  cost_mean = tf.reduce_mean(cost)\n",
        "\n",
        "  return cost_mean"
      ],
      "execution_count": 21,
      "outputs": []
    },
    {
      "cell_type": "code",
      "metadata": {
        "id": "zZDIIsa9b4vx",
        "colab_type": "code",
        "colab": {
          "base_uri": "https://localhost:8080/",
          "height": 127
        },
        "outputId": "80be12fd-f0c1-4cc8-a419-948bad213e3c"
      },
      "source": [
        "def gradient_function(X, Y):\n",
        "  with tf.GradientTape() as t:\n",
        "    loss = cost_function(X, Y)\n",
        "    grads = t.gradient(loss, variables)\n",
        "\n",
        "    return grads\n",
        "print(gradient_function(x_data, y_data))"
      ],
      "execution_count": 22,
      "outputs": [
        {
          "output_type": "stream",
          "text": [
            "[<tf.Tensor: shape=(4, 3), dtype=float32, numpy=\n",
            "array([[ 0.06914607, -0.6509784 ,  0.5818323 ],\n",
            "       [-1.5221257 , -1.214863  ,  2.7369885 ],\n",
            "       [-1.2473828 , -1.7611003 ,  3.008483  ],\n",
            "       [-1.2014606 , -1.8659233 ,  3.0673838 ]], dtype=float32)>, <tf.Tensor: shape=(3,), dtype=float32, numpy=array([-0.15212913, -0.34219202,  0.4943211 ], dtype=float32)>]\n"
          ],
          "name": "stdout"
        }
      ]
    },
    {
      "cell_type": "code",
      "metadata": {
        "id": "6uk77btWcQ9B",
        "colab_type": "code",
        "colab": {
          "base_uri": "https://localhost:8080/",
          "height": 395
        },
        "outputId": "b59a7f54-8f99-4714-de2f-0d1a1ac2c855"
      },
      "source": [
        "def fit(X, Y, epochs=2000, verbose=100):\n",
        "  optimizer = tf.keras.optimizers.SGD(learning_rate=0.1)\n",
        "\n",
        "  for i in range(epochs):\n",
        "    grads = gradient_function(X, Y)\n",
        "    optimizer.apply_gradients(zip(grads, variables))\n",
        "    if(i==0) | ((i+1)%verbose==0):\n",
        "      print(\"Loss at epoch %d: %f\" %(i+1, cost_function(X, Y).numpy()))\n",
        "\n",
        "# 학습이 잘 되고 있는지(loss가 감소하고 있는지) 체크\n",
        "fit(x_data, y_data)"
      ],
      "execution_count": 23,
      "outputs": [
        {
          "output_type": "stream",
          "text": [
            "Loss at epoch 1: 2.849417\n",
            "Loss at epoch 100: 0.684151\n",
            "Loss at epoch 200: 0.613813\n",
            "Loss at epoch 300: 0.558205\n",
            "Loss at epoch 400: 0.508306\n",
            "Loss at epoch 500: 0.461059\n",
            "Loss at epoch 600: 0.415072\n",
            "Loss at epoch 700: 0.369636\n",
            "Loss at epoch 800: 0.324533\n",
            "Loss at epoch 900: 0.280720\n",
            "Loss at epoch 1000: 0.246752\n",
            "Loss at epoch 1100: 0.232798\n",
            "Loss at epoch 1200: 0.221645\n",
            "Loss at epoch 1300: 0.211476\n",
            "Loss at epoch 1400: 0.202164\n",
            "Loss at epoch 1500: 0.193606\n",
            "Loss at epoch 1600: 0.185714\n",
            "Loss at epoch 1700: 0.178415\n",
            "Loss at epoch 1800: 0.171645\n",
            "Loss at epoch 1900: 0.165350\n",
            "Loss at epoch 2000: 0.159483\n"
          ],
          "name": "stdout"
        }
      ]
    },
    {
      "cell_type": "code",
      "metadata": {
        "id": "G7WARx1Qc7AM",
        "colab_type": "code",
        "colab": {
          "base_uri": "https://localhost:8080/",
          "height": 53
        },
        "outputId": "f6a6f312-dccb-4b4b-a1b8-347621e1a24b"
      },
      "source": [
        "# 임의의 입력값을 통해 예측값 확인\n",
        "sample_db = [[2,1,3,2]] # answer label [[0,0,1]]\n",
        "sample_db = np.asarray(sample_db, dtype=np.float32)\n",
        "\n",
        "a = hypothesis(sample_db)\n",
        "\n",
        "print(a)\n",
        "print(tf.argmax(a, 1)) # index 2"
      ],
      "execution_count": 24,
      "outputs": [
        {
          "output_type": "stream",
          "text": [
            "tf.Tensor([[0.00112886 0.08154664 0.91732454]], shape=(1, 3), dtype=float32)\n",
            "tf.Tensor([2], shape=(1,), dtype=int64)\n"
          ],
          "name": "stdout"
        }
      ]
    },
    {
      "cell_type": "code",
      "metadata": {
        "id": "RF5ARytQdvuz",
        "colab_type": "code",
        "colab": {
          "base_uri": "https://localhost:8080/",
          "height": 215
        },
        "outputId": "43205052-3ade-4f7f-af45-64596030431f"
      },
      "source": [
        "# 예측값 확인\n",
        "b = hypothesis(x_data)\n",
        "print(b)\n",
        "print(tf.argmax(b, 1))\n",
        "print(tf.argmax(y_data, 1))"
      ],
      "execution_count": 25,
      "outputs": [
        {
          "output_type": "stream",
          "text": [
            "tf.Tensor(\n",
            "[[2.1975954e-06 1.2331175e-03 9.9876475e-01]\n",
            " [1.1288590e-03 8.1546679e-02 9.1732454e-01]\n",
            " [2.2205469e-07 1.6418649e-01 8.3581328e-01]\n",
            " [6.3921457e-06 8.5045445e-01 1.4953916e-01]\n",
            " [2.6150835e-01 7.2644705e-01 1.2044546e-02]\n",
            " [1.3783254e-01 8.6214006e-01 2.7417505e-05]\n",
            " [7.4242175e-01 2.5754121e-01 3.6978530e-05]\n",
            " [9.2197561e-01 7.8023843e-02 6.0005704e-07]], shape=(8, 3), dtype=float32)\n",
            "tf.Tensor([2 2 2 1 1 1 0 0], shape=(8,), dtype=int64)\n",
            "tf.Tensor([2 2 2 1 1 1 0 0], shape=(8,), dtype=int64)\n"
          ],
          "name": "stdout"
        }
      ]
    },
    {
      "cell_type": "code",
      "metadata": {
        "id": "IFHSzXTXeFpB",
        "colab_type": "code",
        "colab": {}
      },
      "source": [
        ""
      ],
      "execution_count": null,
      "outputs": []
    }
  ]
}