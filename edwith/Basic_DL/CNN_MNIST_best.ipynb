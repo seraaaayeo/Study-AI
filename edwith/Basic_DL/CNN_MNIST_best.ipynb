{
  "nbformat": 4,
  "nbformat_minor": 0,
  "metadata": {
    "colab": {
      "name": "CNN-MNIST-best.ipynb",
      "provenance": []
    },
    "kernelspec": {
      "name": "python3",
      "display_name": "Python 3"
    }
  },
  "cells": [
    {
      "cell_type": "markdown",
      "metadata": {
        "id": "RBnCbPiQWutI",
        "colab_type": "text"
      },
      "source": [
        "## 가장 좋은 성능의 MNIST CNN 만들기\n",
        "* MNIST 데이터셋에 대해 best CNN 만들기(성능을 최대한 끌어올리기)\n",
        "* Data Augmentation, Batch Normalization, Model ENsemble, Learning Rate Decay 사용"
      ]
    },
    {
      "cell_type": "code",
      "metadata": {
        "id": "Y21Pc7sSWqhv",
        "colab_type": "code",
        "colab": {}
      },
      "source": [
        "import tensorflow as tf\n",
        "from tensorflow import keras\n",
        "from tensorflow.keras.utils import to_categorical\n",
        "import numpy as np\n",
        "import matplotlib.pyplot as plt\n",
        "import os\n",
        "from scipy import ndimage # data augmentation을 쉽게 해 줌"
      ],
      "execution_count": null,
      "outputs": []
    },
    {
      "cell_type": "code",
      "metadata": {
        "id": "Qoe_zLvkW4a_",
        "colab_type": "code",
        "colab": {}
      },
      "source": [
        "learning_rate = 0.001\n",
        "training_epochs = 15\n",
        "batch_size = 100\n",
        "\n",
        "tf.random.set_seed(777)\n",
        "\n",
        "cur_dir = os.getcwd()\n",
        "ckpt_dir_name = 'checkpoints'\n",
        "model_dir_name = 'minst_cnn_best'\n",
        "\n",
        "checkpoint_dir = os.path.join(cur_dir, ckpt_dir_name, model_dir_name)\n",
        "os.makedirs(checkpoint_dir, exist_ok=True)\n",
        "\n",
        "checkpoint_prefix = os.path.join(checkpoint_dir, model_dir_name)\n",
        "\n",
        "mnist = keras.datasets.mnist\n",
        "class_names = ['0', '1', '2', '3', '4', '5', '6', '7', '8', '9']"
      ],
      "execution_count": null,
      "outputs": []
    },
    {
      "cell_type": "markdown",
      "metadata": {
        "id": "xxwytsnXXEzf",
        "colab_type": "text"
      },
      "source": [
        "## Data Augmentation"
      ]
    },
    {
      "cell_type": "code",
      "metadata": {
        "id": "FmiOntCCW6c3",
        "colab_type": "code",
        "colab": {}
      },
      "source": [
        "def data_augmentation(images, labels):\n",
        "    aug_images = []\n",
        "    aug_labels = []    \n",
        "    \n",
        "    for x, y in zip(images, labels):        \n",
        "        aug_images.append(x)\n",
        "        aug_labels.append(y) #original data(image와 label) 저장\n",
        "        \n",
        "        bg_value = np.median(x) #이미지의 중간값을 저장 - rotation, shift를 했을 때 생기는 hole을 채우기 위함.\n",
        "        \n",
        "        for _ in range(4): #augmentation을 4번 진행하므로 데이터는 5배가 됨(원래 데이터 + augmentation된 데이터 4개)\n",
        "            angle = np.random.randint(-15, 15, 1) #-15도에서 15도 사이의 랜덤한 값을 뽑아 그 각도로 rotation\n",
        "            rot_img = ndimage.rotate(x, angle[0], reshape=False, cval=bg_value)\n",
        "            \n",
        "            shift = np.random.randint(-2, 2, 2) #rotation된 이미지를 shift\n",
        "            shift_img = ndimage.shift(rot_img, shift, cval=bg_value) #숫자를 두개를 뽑아 하나는 세로방향, 하나는 가로방향으로 shift       \n",
        "            \n",
        "            aug_images.append(shift_img)\n",
        "            aug_labels.append(y)\n",
        "    aug_images = np.array(aug_images)\n",
        "    aug_labels = np.array(aug_labels)\n",
        "    return aug_images, aug_labels"
      ],
      "execution_count": null,
      "outputs": []
    },
    {
      "cell_type": "code",
      "metadata": {
        "id": "MMWDhSAEW-iX",
        "colab_type": "code",
        "colab": {}
      },
      "source": [
        "(train_images, train_labels), (test_images, test_labels) = mnist.load_data()\n",
        "\n",
        "train_images, train_labels = data_augmentation(train_images, train_labels) #load된 데이터에 data augmentation 적용\n",
        "    \n",
        "train_images = train_images.astype(np.float32) / 255.\n",
        "test_images = test_images.astype(np.float32) / 255.\n",
        "train_images = np.expand_dims(train_images, axis=-1)\n",
        "test_images = np.expand_dims(test_images, axis=-1)\n",
        "    \n",
        "train_labels = to_categorical(train_labels, 10)\n",
        "test_labels = to_categorical(test_labels, 10)    \n",
        "    \n",
        "train_dataset = tf.data.Dataset.from_tensor_slices((train_images, train_labels)).shuffle(\n",
        "                buffer_size=500000).batch(batch_size)\n",
        "test_dataset = tf.data.Dataset.from_tensor_slices((test_images, test_labels)).batch(batch_size)"
      ],
      "execution_count": null,
      "outputs": []
    },
    {
      "cell_type": "markdown",
      "metadata": {
        "id": "DGPsXgDkXJ02",
        "colab_type": "text"
      },
      "source": [
        "## Model Class\n",
        "\n",
        "* Batch norm 진행"
      ]
    },
    {
      "cell_type": "code",
      "metadata": {
        "id": "Qi1aC8KdXLJE",
        "colab_type": "code",
        "colab": {}
      },
      "source": [
        "class ConvBNRelu(tf.keras.Model):\n",
        "    def __init__(self, filters, kernel_size=3, strides=1, padding='SAME'):\n",
        "        super(ConvBNRelu, self).__init__()\n",
        "        self.conv = keras.layers.Conv2D(filters=filters, kernel_size=kernel_size, strides=strides, \n",
        "                                        padding=padding, kernel_initializer='glorot_normal') #normal distribution\n",
        "        self.batchnorm = tf.keras.layers.BatchNormalization() #Batch norm을 진행\n",
        "    def call(self, inputs, training=False):\n",
        "        layer = self.conv(inputs)\n",
        "        layer = self.batchnorm(layer)\n",
        "        layer = tf.nn.relu(layer)\n",
        "        return layer\n",
        "\n",
        "\n",
        "class DenseBNRelu(tf.keras.Model):\n",
        "    def __init__(self, units):\n",
        "        super(DenseBNRelu, self).__init__()\n",
        "        self.dense = keras.layers.Dense(units=units, kernel_initializer='glorot_normal')\n",
        "        self.batchnorm = tf.keras.layers.BatchNormalization()\n",
        "    def call(self, inputs, training=False):\n",
        "        layer = self.dense(inputs)\n",
        "        layer = self.batchnorm(layer)\n",
        "        layer = tf.nn.relu(layer)\n",
        "        return layer\n",
        "\n",
        "class MNISTModel(tf.keras.Model):\n",
        "    def __init__(self):\n",
        "        super(MNISTModel, self).__init__()\n",
        "        self.conv1 = ConvBNRelu(filters=32, kernel_size=[3, 3], padding='SAME')        \n",
        "        self.pool1 = keras.layers.MaxPool2D(padding='SAME')\n",
        "        self.conv2 = ConvBNRelu(filters=64, kernel_size=[3, 3], padding='SAME')\n",
        "        self.pool2 = keras.layers.MaxPool2D(padding='SAME')\n",
        "        self.conv3 = ConvBNRelu(filters=128, kernel_size=[3, 3], padding='SAME')\n",
        "        self.pool3 = keras.layers.MaxPool2D(padding='SAME')\n",
        "        self.pool3_flat = keras.layers.Flatten()\n",
        "        self.dense4 = DenseBNRelu(units=256)\n",
        "        self.drop4 = keras.layers.Dropout(rate=0.4)\n",
        "        self.dense5 = keras.layers.Dense(units=10, kernel_initializer='glorot_normal') #마지막 layer에는 batch norm이 필요없기 때문\n",
        "    def call(self, inputs, training=False):\n",
        "        net = self.conv1(inputs)        \n",
        "        net = self.pool1(net)\n",
        "        net = self.conv2(net)\n",
        "        net = self.pool2(net)\n",
        "        net = self.conv3(net)\n",
        "        net = self.pool3(net)\n",
        "        net = self.pool3_flat(net)\n",
        "        net = self.dense4(net)\n",
        "        net = self.drop4(net)\n",
        "        net = self.dense5(net)\n",
        "        return net"
      ],
      "execution_count": null,
      "outputs": []
    },
    {
      "cell_type": "code",
      "metadata": {
        "id": "7jtm_KmQXXG-",
        "colab_type": "code",
        "colab": {}
      },
      "source": [
        "models = []\n",
        "num_models = 5\n",
        "for m in range(num_models):\n",
        "    models.append(MNISTModel())"
      ],
      "execution_count": null,
      "outputs": []
    },
    {
      "cell_type": "code",
      "metadata": {
        "id": "YeFiKHdGXZPf",
        "colab_type": "code",
        "colab": {}
      },
      "source": [
        "def loss_fn(model, images, labels):\n",
        "    logits = model(images, training=True)\n",
        "    loss = tf.reduce_mean(tf.keras.losses.categorical_crossentropy(\n",
        "        y_pred=logits, y_true=labels, from_logits=True))    \n",
        "    return loss\n",
        "\n",
        "def grad(model, images, labels):\n",
        "    with tf.GradientTape() as tape:\n",
        "        loss = loss_fn(model, images, labels)\n",
        "    return tape.gradient(loss, model.trainable_variables)\n",
        "\n",
        "def evaluate(models, images, labels):\n",
        "    predictions = np.zeros_like(labels)\n",
        "    for model in models:\n",
        "        logits = model(images, training=False)\n",
        "        predictions += logits\n",
        "    correct_prediction = tf.equal(tf.argmax(predictions, 1), tf.argmax(labels, 1))\n",
        "    accuracy = tf.reduce_mean(tf.cast(correct_prediction, tf.float32))\n",
        "    return accuracy"
      ],
      "execution_count": null,
      "outputs": []
    },
    {
      "cell_type": "markdown",
      "metadata": {
        "id": "wDYcsuMBXgge",
        "colab_type": "text"
      },
      "source": [
        "## Optimizer - dacay\n",
        "\n",
        "* learning rate decay로 exponential decay 적용\n",
        "* ```train_images.shape[0]/batch_size*num_models*5``` = 5 epoch일 때\n",
        "  * 전체 데이터 size에서 batch size로 나누면 한 번 epoch이 나옴.\n",
        "  * model 개수만큼 곱해줘야 전체 epoch을 돌 수 있음\n",
        "* ```0.5``` = 1/2로 learning rate를 줄인다."
      ]
    },
    {
      "cell_type": "code",
      "metadata": {
        "id": "TV3NfS8SXelG",
        "colab_type": "code",
        "colab": {}
      },
      "source": [
        "lr_decay = tf.keras.optimizers.schedules.ExponentialDecay(learning_rate,\n",
        "                                                          train_images.shape[0]/batch_size*num_models*5,\n",
        "                                                          0.5, staircase=True)\n",
        "optimizer = tf.keras.optimizers.Adam(learning_rate=lr_decay)"
      ],
      "execution_count": null,
      "outputs": []
    },
    {
      "cell_type": "code",
      "metadata": {
        "id": "clx1CZLsXitO",
        "colab_type": "code",
        "colab": {}
      },
      "source": [
        "checkpoints = []\n",
        "for m in range(num_models):\n",
        "    checkpoints.append(tf.train.Checkpoint(cnn=models[m]))"
      ],
      "execution_count": null,
      "outputs": []
    },
    {
      "cell_type": "code",
      "metadata": {
        "id": "kGpNln7AXlIf",
        "colab_type": "code",
        "colab": {}
      },
      "source": [
        "# train my model\n",
        "print('Learning started. It takes sometime.')\n",
        "for epoch in range(training_epochs):\n",
        "    avg_loss = 0.\n",
        "    avg_train_acc = 0.\n",
        "    avg_test_acc = 0.\n",
        "    train_step = 0\n",
        "    test_step = 0        \n",
        "    for images, labels in train_dataset:\n",
        "        for model in models:\n",
        "            grads = grad(model, images, labels)                \n",
        "            optimizer.apply_gradients(zip(grads, model.trainable_variables))            \n",
        "            loss = loss_fn(model, images, labels)\n",
        "            avg_loss += loss / num_models\n",
        "        acc = evaluate(models, images, labels)\n",
        "        avg_train_acc += acc\n",
        "        train_step += 1\n",
        "    avg_loss = avg_loss / train_step\n",
        "    avg_train_acc = avg_train_acc / train_step\n",
        "    \n",
        "    for images, labels in test_dataset:        \n",
        "        acc = evaluate(models, images, labels)        \n",
        "        avg_test_acc += acc\n",
        "        test_step += 1    \n",
        "    avg_test_acc = avg_test_acc / test_step    \n",
        "\n",
        "    print('Epoch:', '{}'.format(epoch + 1), 'loss =', '{:.8f}'.format(avg_loss), \n",
        "          'train accuracy = ', '{:.4f}'.format(avg_train_acc), \n",
        "          'test accuracy = ', '{:.4f}'.format(avg_test_acc))\n",
        "    \n",
        "    \n",
        "    for idx, checkpoint in enumerate(checkpoints):\n",
        "        checkpoint.save(file_prefix=checkpoint_prefix+'-{}'.format(idx))\n",
        "\n",
        "print('Learning Finished!')"
      ],
      "execution_count": null,
      "outputs": []
    }
  ]
}